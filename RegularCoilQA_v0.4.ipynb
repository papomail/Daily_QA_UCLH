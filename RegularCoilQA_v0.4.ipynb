{
 "cells": [
  {
   "cell_type": "code",
   "execution_count": 2,
   "metadata": {},
   "outputs": [],
   "source": [
    "from pathlib import Path\n",
    "import numpy as np\n",
    "from matplotlib import pyplot as plt\n",
    "from datetime import datetime \n",
    "\n",
    "from nilearn import plotting, image, masking\n",
    "from nilearn.plotting import plot_roi\n",
    "\n",
    "import pandas as pd\n",
    "import subprocess\n",
    "\n",
    "import json  \n",
    "from pandas import json_normalize, read_json\n",
    "import plotly\n",
    "import plotly.express as px\n",
    "\n",
    "\n",
    "%matplotlib widget\n",
    "\n",
    "\n",
    "\n"
   ]
  },
  {
   "cell_type": "code",
   "execution_count": 3,
   "metadata": {},
   "outputs": [],
   "source": [
    "def convert2NIFTI(base_folder=Path.home()/'Sync/MRdata/Avanto_MR2',**kwargs): \n",
    "    now=datetime.now()\n",
    "    base_folder=Path(base_folder)\n",
    "    \n",
    "    output_folder_name = kwargs.get('output_folder_name', 'NIFTI')\n",
    "    dcm2niix_path = kwargs.get('dcm2niix_path', 'dcm2niix')\n",
    "    dcm2niix_flag = kwargs.get('dcm2nixx_flag', False) # Set dcm2nixx_flag=True to skip redoing the NIFTI conversion. (Creates an empty file 'dcm2niix_done' in every folder were dcm2niix was used). \n",
    "\n",
    "    print('Checking if DICOM to NIFTI conversion is needed:\\n')\n",
    "    ## get the testfolders in the base_folder (single child)\n",
    "    testfolders=[folder for folder in sorted(base_folder.glob('*')) if folder.is_dir()]\n",
    "    needs_dcm2niix=[]\n",
    "    for i,testfolder in enumerate(testfolders):\n",
    "        nf=[str(k) for k in testfolder.glob(output_folder_name)]\n",
    "        qf=[str(k) for k in testfolder.glob(\"dcm2niix_done\")]\n",
    "        # print(f'nf={nf}')\n",
    "        # print(f'qf={qf}')\n",
    "\n",
    "        if (nf or qf):\n",
    "            print(f'Skipping {testfolder.name}  (already converted)')\n",
    "     \n",
    "        if not (nf or qf):\n",
    "            needs_dcm2niix.append(testfolder)\n",
    "            # print(f'testfolders[{i}]={testfolder} is empty')\n",
    "            \n",
    "            \n",
    "    output_folder=[]\n",
    "    output_folder2=[]\n",
    "    \n",
    "    for i,folder in enumerate(needs_dcm2niix):\n",
    "        \n",
    "        \n",
    "        # input_folder=needs_dcm2niix[0]\n",
    "        input_folder=folder\n",
    "        output_folder.append(input_folder/output_folder_name)\n",
    "        output_folder2.append(Path('/Users/papo/Desktop/test/'+input_folder.name))\n",
    "#         output_folder2.append(Path('/Users/papo/Desktop/test/'+input_folder.name+now.strftime(\"_%d%b%Y\")))\n",
    "        \n",
    "        try:\n",
    "            output_folder2[i].mkdir(parents=True, exist_ok=False)\n",
    "            if i == 0:\n",
    "                print(f'\\nRunning dcm2niix on the following folder(s):')\n",
    "            print(folder) \n",
    "        except:\n",
    "            print(f'Skipping {folder.name}  (already done)')\n",
    "            continue\n",
    "            \n",
    "    \n",
    "        dcm2niix_command=' '.join([dcm2niix_path,'-ba n','-o',str(output_folder2[i].resolve()), str(input_folder.resolve())])\n",
    "        subprocess.run(dcm2niix_command, capture_output=True, shell=True) \n",
    "        \n",
    "        if dcm2niix_flag:\n",
    "            flag=folder/'dcm2niix_done'\n",
    "            subprocess.run(['touch', flag.resolve()])\n",
    "\n",
    "\n",
    "    print(f'\\nNIFTI conversion step checked and completed.\\n')\n",
    "\n",
    "    return(output_folder2)\n"
   ]
  },
  {
   "cell_type": "code",
   "execution_count": 4,
   "metadata": {},
   "outputs": [
    {
     "name": "stdout",
     "output_type": "stream",
     "text": [
      "Checking if DICOM to NIFTI conversion is needed:\n",
      "\n",
      "Skipping Anterior11  (already done)\n",
      "Skipping Anterior12  (already done)\n",
      "Skipping Flex_L  (already done)\n",
      "Skipping Flex_M  (already done)\n",
      "Skipping Flex_S  (already done)\n",
      "Skipping Head_Neck_Coil  (already done)\n",
      "Skipping Head_coil  (already done)\n",
      "Skipping photos  (already done)\n",
      "\n",
      "NIFTI conversion step checked and completed.\n",
      "\n"
     ]
    }
   ],
   "source": [
    "folders=convert2NIFTI('/Users/papo/Sync/Projects/RT_Ingenia_QA/RT_Ingenia_Coil_data')\n",
    "\n"
   ]
  },
  {
   "cell_type": "code",
   "execution_count": 5,
   "metadata": {},
   "outputs": [],
   "source": [
    "def parse_files(folder):\n",
    "    file_dic=[]\n",
    "    folder=Path(folder)\n",
    "\n",
    "\n",
    "    ''' Make sure the NIFTI and JSON files correspond to each other \n",
    "    '''\n",
    "    for (nifti, json) in zip(sorted(folder.rglob('*DQA*.nii')),sorted(folder.rglob('*DQA*.json'))):\n",
    "        if nifti.stem == json.stem:\n",
    "            file_dic.append({ 'nifti':nifti, 'json':json })        \n",
    "        else:\n",
    "            raise Exception(f'NIFTI and JSON files do NOT match:\\nNIFTI: {nifti.name}\\nJSON:  {json.name}')\n",
    "\n",
    "\n",
    "    ''' Make sure the NIFTIs correspond to the 1st and 2nd scans of the sequence (not from other sequences) \n",
    "    '''\n",
    "    itr=iter(file_dic)\n",
    "    file_dic2=[]\n",
    "    for i in range(round(len(file_dic)/2)):\n",
    "        f1=next(itr)\n",
    "        f2=next(itr)\n",
    "\n",
    "        f2stem=f2['nifti'].stem\n",
    "        suffix_index=f2stem.rfind('_')\n",
    "        f2_nosuffix=f2stem[0:suffix_index]\n",
    "\n",
    "        if f1['nifti'] != f2['nifti'] and f1['nifti'].stem == f2_nosuffix:\n",
    "            file_dic2.append({ 'nifti1': f1['nifti'],  'nifti2': f2['nifti'],  'json1': f1['json'],  'json2': f2['json'] })\n",
    "\n",
    "        else:\n",
    "            nif1=f1['nifti']\n",
    "            nif2=f2['nifti']\n",
    "            raise Exception(f'1st and 2nd NIFTI files do NOT match:\\n1st NIFTI: {nif1.name}\\n2nd NIFTI: {nif2.name}')\n",
    "\n",
    "    return(file_dic2)\n"
   ]
  },
  {
   "cell_type": "code",
   "execution_count": 6,
   "metadata": {},
   "outputs": [
    {
     "name": "stdout",
     "output_type": "stream",
     "text": [
      "SNR test number 1:\n",
      "1st nifti: /Users/papo/Desktop/test/Anterior11/Anterior11_Ant_Post_DQA_2dynamics_20200715162653_201.nii\n",
      "2nd nifti: /Users/papo/Desktop/test/Anterior11/Anterior11_Ant_Post_DQA_2dynamics_20200715162653_201_t88000.nii\n",
      " \n",
      "SNR test number 2:\n",
      "1st nifti: /Users/papo/Desktop/test/Anterior12/Anterior12_Ant_Post_DQA_2dynamics_20200715160823_401.nii\n",
      "2nd nifti: /Users/papo/Desktop/test/Anterior12/Anterior12_Ant_Post_DQA_2dynamics_20200715160823_401_t88000.nii\n",
      " \n",
      "SNR test number 3:\n",
      "1st nifti: /Users/papo/Desktop/test/Flex_L/Flex_L_Flex_coil_DQA_2dynamics_20200715144644_201.nii\n",
      "2nd nifti: /Users/papo/Desktop/test/Flex_L/Flex_L_Flex_coil_DQA_2dynamics_20200715144644_201_t108000.nii\n",
      " \n",
      "SNR test number 4:\n",
      "1st nifti: /Users/papo/Desktop/test/Flex_M/Flex_M_Flex_coil_DQA_2dynamics_20200715145941_301.nii\n",
      "2nd nifti: /Users/papo/Desktop/test/Flex_M/Flex_M_Flex_coil_DQA_2dynamics_20200715145941_301_t108000.nii\n",
      " \n",
      "SNR test number 5:\n",
      "1st nifti: /Users/papo/Desktop/test/Flex_S/Flex_S_Flex_coil_DQA_2dynamics_20200715151521_401.nii\n",
      "2nd nifti: /Users/papo/Desktop/test/Flex_S/Flex_S_Flex_coil_DQA_2dynamics_20200715151521_401_t108000.nii\n",
      " \n",
      "SNR test number 6:\n",
      "1st nifti: /Users/papo/Desktop/test/Head_Neck_Coil/Head_Neck_Coil_HN_Head_DQA_2dynamics_20200715154546_201.nii\n",
      "2nd nifti: /Users/papo/Desktop/test/Head_Neck_Coil/Head_Neck_Coil_HN_Head_DQA_2dynamics_20200715154546_201_t108000.nii\n",
      " \n",
      "SNR test number 7:\n",
      "1st nifti: /Users/papo/Desktop/test/Head_Neck_Coil/Head_Neck_Coil_HN_Neck_DQA_2dynamics_20200715154546_301.nii\n",
      "2nd nifti: /Users/papo/Desktop/test/Head_Neck_Coil/Head_Neck_Coil_HN_Neck_DQA_2dynamics_20200715154546_301_t108000.nii\n",
      " \n",
      "SNR test number 8:\n",
      "1st nifti: /Users/papo/Desktop/test/Head_coil/Head_coil_HN_Head_DQA_2dynamics_20200715153015_401.nii\n",
      "2nd nifti: /Users/papo/Desktop/test/Head_coil/Head_coil_HN_Head_DQA_2dynamics_20200715153015_401_t108000.nii\n",
      " \n"
     ]
    }
   ],
   "source": [
    "\n",
    "\n",
    "for test,files in enumerate(parse_files('/Users/papo/Desktop/test')):\n",
    "    n1=files['nifti1']\n",
    "    n2=files['nifti2']\n",
    "    j1=files['json1']\n",
    "    j2=files['json2']\n",
    "    print(f'SNR test number {test+1}:')\n",
    "    print(f'1st nifti: {n1}\\n2nd nifti: {n2}')\n",
    "#     print(f'1st json: {j1}\\n2nd json: {j2}')\n",
    "    print(' ')\n",
    "\n",
    "\n",
    "\n",
    "# df2=df_j1.loc[:, ['ReceiveCoilName', 'ReceiveCoilActiveElements']]\n",
    "\n"
   ]
  },
  {
   "cell_type": "code",
   "execution_count": 7,
   "metadata": {},
   "outputs": [],
   "source": [
    "plt.close('all')\n",
    "class SNR_test:\n",
    "    \"\"\"SNR_test class computes SNR test from two nilean images (substraction method). \n",
    "    \"\"\"\n",
    "    \n",
    "    def __init__(self, files): \n",
    "        \"\"\"[summary]\n",
    "        \n",
    "        Keyword Arguments:\n",
    "            i1 {[nilean image]} -- [1st volume] (default: {i1})\n",
    "            i2 {[nilean image]} -- [2nd volume] (default: {i2})\n",
    "        \"\"\"\n",
    "        self.script_version=0.4\n",
    "        self.im1_path=str(files['nifti1'])\n",
    "        im2_path=str(files['nifti2'])\n",
    "        j1=str(files['json1'])\n",
    "        name=str(files['nifti1'].stem)\n",
    "        self.name=name[0:name.find('_DQA')]\n",
    "        self.i1=image.load_img(self.im1_path)\n",
    "        self.i2=image.load_img(im2_path)\n",
    "        self.j1=self.load_json(j1)\n",
    "        self.calc_global_SNR()\n",
    "        self.calc_nSNR()\n",
    "        self.create_results_df()\n",
    "#         self.plot()\n",
    "    \n",
    "    \n",
    "    def load_json(self,jfile):\n",
    "        with open(jfile) as f: \n",
    "            j = json.load(f) \n",
    "            j=json_normalize(j)\n",
    "        return(j.transpose().to_dict()[0])\n",
    "\n",
    "\n",
    "    \n",
    "    def calc_SNR(self,signal,noise):\n",
    "        signal[signal==0]=np.nan\n",
    "#         noise[signal==0]=np.nan   \n",
    "        SNR=np.nanmean(signal)/np.nanstd(noise)/np.sqrt(2)\n",
    "        SNR_std=np.nanstd(signal)/np.nanstd(noise)/np.sqrt(2)\n",
    "        return SNR,SNR_std\n",
    "\n",
    "    def calc_global_SNR(self):\n",
    "        self.imean=image.mean_img([self.i1, self.i2])\n",
    "        self.isub=image.math_img(\"(i2 - i1)\", i1=self.i1, i2=self.i2)\n",
    "        self.mask=masking.compute_epi_mask(self.imean)      \n",
    "        imean=masking.apply_mask(self.imean,self.mask)\n",
    "        isub=masking.apply_mask(self.isub,self.mask)\n",
    "        self.SNR_global,self.SNR_global_std=self.calc_SNR(imean,isub)\n",
    "\n",
    "        \n",
    "    def calc_nSNR(self):\n",
    "        # Slice_fact=1000*nfe*npe/(fovFE*fovPE*slide_thk)/sqrt(npe*TR);\n",
    "        # nbw=sqrt(bw/30)\n",
    "        # nSNR=SNR*nbw*Slice_fact\n",
    "        info=self.j1\n",
    "        npe=info['PhaseEncodingSteps']\n",
    "        nfe=int(np.round(100*npe/info['PercentSampling']))\n",
    "        self.sl_thk=info['SliceThickness']\n",
    "        self.TR=info['RepetitionTime']\n",
    "        pdims=self.i1.header['pixdim']\n",
    "        \n",
    "        self.recon_matrix=info['ReconMatrixPE']\n",
    "        pdim1=self.recon_matrix/nfe*pdims[1] #Acquired pixel width (pre-reconstruction)\n",
    "        pdim2=self.recon_matrix/npe*pdims[2]\n",
    "        pdim3=self.sl_thk\n",
    "        self.acquisiton_matrix=(nfe,npe) \n",
    "        self.acquisiton_pixdim=(pdim1,pdim2,pdim3)\n",
    "        Slice_fact=1000/(pdim1*pdim2*pdim3)/np.sqrt(npe*self.TR)\n",
    "        self.pixel_bandwidth=info['PixelBandwidth']\n",
    "        self.BW_KHz=self.pixel_bandwidth*nfe/1000  #Or PixelBandwidth*info['ReconMatrixPE'] ?\n",
    "        nBW=np.sqrt(self.BW_KHz/30)\n",
    "        self.nSNR=self.SNR_global*nBW*Slice_fact\n",
    "        self.nSNR_std=self.SNR_global_std*nBW*Slice_fact\n",
    "\n",
    "        \n",
    "    def create_results_df(self):\n",
    "        results={'Name': self.name, 'NSNR': self.nSNR,'NSNR_std': self.nSNR_std, \n",
    "                  'SNR': self.SNR_global,'SNR_std': self.SNR_global_std, \n",
    "                  'File': self.im1_path, 'AcquisitonMatrix': self.acquisiton_matrix, \n",
    "                  'AcquisitonPixdim': self.acquisiton_pixdim, 'BW_KHz': self.BW_KHz,\n",
    "                  'ScriptVersion':self.script_version} \n",
    "        results_snr = results.items()\n",
    "        results_snr_df=pd.DataFrame(data=results_snr).transpose()\n",
    "        info = self.j1.items()\n",
    "        info_df=pd.DataFrame(info).transpose()\n",
    "        results_df=pd.concat([results_snr_df,info_df],axis=1)\n",
    "        new_header = results_df.iloc[0] \n",
    "        results_df = results_df[1:] \n",
    "        results_df.columns = new_header\n",
    "        self.results_df=results_df\n",
    "        \n",
    "        \n",
    "    def calc_SNR_map(self):\n",
    "        pass\n",
    "\n",
    "    \n",
    "    def plot(self):   \n",
    "        plotting.plot_roi(self.mask, self.imean,draw_cross=False,display_mode='tiled',\n",
    "                          title=f'{self.name}: nSNR={int(np.round(self.nSNR))}');\n",
    "\n",
    "    "
   ]
  },
  {
   "cell_type": "code",
   "execution_count": 8,
   "metadata": {},
   "outputs": [],
   "source": [
    "#Run the SNR tests\n",
    "tests=[SNR_test(files) for files in parse_files('/Users/papo/Desktop/test')]\n",
    "\n"
   ]
  },
  {
   "cell_type": "code",
   "execution_count": 20,
   "metadata": {},
   "outputs": [
    {
     "name": "stdout",
     "output_type": "stream",
     "text": [
      "test 1, Anterior11_Ant_Post:\n",
      "   SNR=205\n",
      "   nSNR=671\n",
      "\n",
      "test 2, Anterior12_Ant_Post:\n",
      "   SNR=240\n",
      "   nSNR=783\n",
      "\n",
      "test 3, Flex_L_Flex_coil:\n",
      "   SNR=85\n",
      "   nSNR=1177\n",
      "\n",
      "test 4, Flex_M_Flex_coil:\n",
      "   SNR=71\n",
      "   nSNR=988\n",
      "\n",
      "test 5, Flex_S_Flex_coil:\n",
      "   SNR=39\n",
      "   nSNR=544\n",
      "\n",
      "test 6, Head_Neck_Coil_HN_Head:\n",
      "   SNR=104\n",
      "   nSNR=1441\n",
      "\n",
      "test 7, Head_Neck_Coil_HN_Neck:\n",
      "   SNR=72\n",
      "   nSNR=1002\n",
      "\n",
      "test 8, Head_coil_HN_Head:\n",
      "   SNR=101\n",
      "   nSNR=1406\n",
      "\n"
     ]
    },
    {
     "data": {
      "text/html": [
       "<div>\n",
       "<style scoped>\n",
       "    .dataframe tbody tr th:only-of-type {\n",
       "        vertical-align: middle;\n",
       "    }\n",
       "\n",
       "    .dataframe tbody tr th {\n",
       "        vertical-align: top;\n",
       "    }\n",
       "\n",
       "    .dataframe thead th {\n",
       "        text-align: right;\n",
       "    }\n",
       "</style>\n",
       "<table border=\"1\" class=\"dataframe\">\n",
       "  <thead>\n",
       "    <tr style=\"text-align: right;\">\n",
       "      <th></th>\n",
       "      <th>Name</th>\n",
       "      <th>NSNR</th>\n",
       "      <th>NSNR_std</th>\n",
       "      <th>SNR</th>\n",
       "      <th>SNR_std</th>\n",
       "      <th>File</th>\n",
       "      <th>AcquisitonMatrix</th>\n",
       "      <th>AcquisitonPixdim</th>\n",
       "      <th>BW_KHz</th>\n",
       "      <th>ScriptVersion</th>\n",
       "      <th>...</th>\n",
       "      <th>WaterFatShift</th>\n",
       "      <th>EstimatedEffectiveEchoSpacing</th>\n",
       "      <th>EstimatedTotalReadoutTime</th>\n",
       "      <th>PixelBandwidth</th>\n",
       "      <th>PhaseEncodingAxis</th>\n",
       "      <th>ImageOrientationPatientDICOM</th>\n",
       "      <th>InPlanePhaseEncodingDirectionDICOM</th>\n",
       "      <th>ConversionSoftware</th>\n",
       "      <th>ConversionSoftwareVersion</th>\n",
       "      <th>Acquisition Date</th>\n",
       "    </tr>\n",
       "  </thead>\n",
       "  <tbody>\n",
       "    <tr>\n",
       "      <th>0</th>\n",
       "      <td>Anterior11_Ant_Post</td>\n",
       "      <td>671.266</td>\n",
       "      <td>188.295</td>\n",
       "      <td>205.312</td>\n",
       "      <td>57.5917</td>\n",
       "      <td>/Users/papo/Desktop/test/Anterior11/Anterior11...</td>\n",
       "      <td>(224, 225)</td>\n",
       "      <td>(2.008928622518267, 2.00000005086263, 5)</td>\n",
       "      <td>29.12</td>\n",
       "      <td>0.4</td>\n",
       "      <td>...</td>\n",
       "      <td>1.66926</td>\n",
       "      <td>1.09407e-05</td>\n",
       "      <td>0.00576577</td>\n",
       "      <td>130</td>\n",
       "      <td>i</td>\n",
       "      <td>[1, 0, 0, 0, 0, -1]</td>\n",
       "      <td>ROW</td>\n",
       "      <td>dcm2niix</td>\n",
       "      <td>v1.0.20200331</td>\n",
       "      <td>2020-07-15 16:29:04.870</td>\n",
       "    </tr>\n",
       "    <tr>\n",
       "      <th>1</th>\n",
       "      <td>Anterior12_Ant_Post</td>\n",
       "      <td>783.353</td>\n",
       "      <td>222.738</td>\n",
       "      <td>239.595</td>\n",
       "      <td>68.1264</td>\n",
       "      <td>/Users/papo/Desktop/test/Anterior12/Anterior12...</td>\n",
       "      <td>(224, 225)</td>\n",
       "      <td>(2.008928622518267, 2.00000005086263, 5)</td>\n",
       "      <td>29.12</td>\n",
       "      <td>0.4</td>\n",
       "      <td>...</td>\n",
       "      <td>1.66926</td>\n",
       "      <td>1.09408e-05</td>\n",
       "      <td>0.00576578</td>\n",
       "      <td>130</td>\n",
       "      <td>i</td>\n",
       "      <td>[1, 0, 0, 0, 0, -1]</td>\n",
       "      <td>ROW</td>\n",
       "      <td>dcm2niix</td>\n",
       "      <td>v1.0.20200331</td>\n",
       "      <td>2020-07-15 16:19:28.780</td>\n",
       "    </tr>\n",
       "    <tr>\n",
       "      <th>2</th>\n",
       "      <td>Flex_L_Flex_coil</td>\n",
       "      <td>1177.15</td>\n",
       "      <td>74.6712</td>\n",
       "      <td>84.9379</td>\n",
       "      <td>5.38794</td>\n",
       "      <td>/Users/papo/Desktop/test/Flex_L/Flex_L_Flex_co...</td>\n",
       "      <td>(256, 258)</td>\n",
       "      <td>(0.9765625298023224, 0.9689922776333121, 5)</td>\n",
       "      <td>33.28</td>\n",
       "      <td>0.4</td>\n",
       "      <td>...</td>\n",
       "      <td>1.67204</td>\n",
       "      <td>2.01233e-05</td>\n",
       "      <td>0.00577538</td>\n",
       "      <td>130</td>\n",
       "      <td>i</td>\n",
       "      <td>[1, 0, 0, 0, 1, 0]</td>\n",
       "      <td>ROW</td>\n",
       "      <td>dcm2niix</td>\n",
       "      <td>v1.0.20200331</td>\n",
       "      <td>2020-07-15 14:51:25.440</td>\n",
       "    </tr>\n",
       "    <tr>\n",
       "      <th>3</th>\n",
       "      <td>Flex_M_Flex_coil</td>\n",
       "      <td>987.902</td>\n",
       "      <td>78.1351</td>\n",
       "      <td>71.2825</td>\n",
       "      <td>5.63787</td>\n",
       "      <td>/Users/papo/Desktop/test/Flex_M/Flex_M_Flex_co...</td>\n",
       "      <td>(256, 258)</td>\n",
       "      <td>(0.9765625298023224, 0.9689922776333121, 5)</td>\n",
       "      <td>33.28</td>\n",
       "      <td>0.4</td>\n",
       "      <td>...</td>\n",
       "      <td>1.67204</td>\n",
       "      <td>2.01233e-05</td>\n",
       "      <td>0.00577538</td>\n",
       "      <td>130</td>\n",
       "      <td>i</td>\n",
       "      <td>[0.998595, 3.30535e-10, -0.0529978, 0.0058124,...</td>\n",
       "      <td>ROW</td>\n",
       "      <td>dcm2niix</td>\n",
       "      <td>v1.0.20200331</td>\n",
       "      <td>2020-07-15 15:06:46.870</td>\n",
       "    </tr>\n",
       "    <tr>\n",
       "      <th>4</th>\n",
       "      <td>Flex_S_Flex_coil</td>\n",
       "      <td>543.669</td>\n",
       "      <td>45.8599</td>\n",
       "      <td>39.2287</td>\n",
       "      <td>3.30904</td>\n",
       "      <td>/Users/papo/Desktop/test/Flex_S/Flex_S_Flex_co...</td>\n",
       "      <td>(256, 258)</td>\n",
       "      <td>(0.9765625298023224, 0.9689922776333121, 5)</td>\n",
       "      <td>33.28</td>\n",
       "      <td>0.4</td>\n",
       "      <td>...</td>\n",
       "      <td>1.67204</td>\n",
       "      <td>2.01233e-05</td>\n",
       "      <td>0.00577538</td>\n",
       "      <td>130</td>\n",
       "      <td>i</td>\n",
       "      <td>[0.998707, 0.000582208, -0.0508303, -0.0031161...</td>\n",
       "      <td>ROW</td>\n",
       "      <td>dcm2niix</td>\n",
       "      <td>v1.0.20200331</td>\n",
       "      <td>2020-07-15 15:23:34.830</td>\n",
       "    </tr>\n",
       "    <tr>\n",
       "      <th>5</th>\n",
       "      <td>Head_Neck_Coil_HN_Head</td>\n",
       "      <td>1440.7</td>\n",
       "      <td>102.534</td>\n",
       "      <td>103.954</td>\n",
       "      <td>7.39838</td>\n",
       "      <td>/Users/papo/Desktop/test/Head_Neck_Coil/Head_N...</td>\n",
       "      <td>(256, 258)</td>\n",
       "      <td>(0.9765625298023224, 0.9689922776333121, 5)</td>\n",
       "      <td>33.28</td>\n",
       "      <td>0.4</td>\n",
       "      <td>...</td>\n",
       "      <td>1.67204</td>\n",
       "      <td>2.01233e-05</td>\n",
       "      <td>0.00577537</td>\n",
       "      <td>130</td>\n",
       "      <td>j</td>\n",
       "      <td>[1, 0, 0, 0, 1, 0]</td>\n",
       "      <td>COL</td>\n",
       "      <td>dcm2niix</td>\n",
       "      <td>v1.0.20200331</td>\n",
       "      <td>2020-07-15 15:50:59.370</td>\n",
       "    </tr>\n",
       "    <tr>\n",
       "      <th>6</th>\n",
       "      <td>Head_Neck_Coil_HN_Neck</td>\n",
       "      <td>1002.35</td>\n",
       "      <td>101.182</td>\n",
       "      <td>72.3253</td>\n",
       "      <td>7.30084</td>\n",
       "      <td>/Users/papo/Desktop/test/Head_Neck_Coil/Head_N...</td>\n",
       "      <td>(256, 258)</td>\n",
       "      <td>(0.9765625298023224, 0.9689922776333121, 5)</td>\n",
       "      <td>33.28</td>\n",
       "      <td>0.4</td>\n",
       "      <td>...</td>\n",
       "      <td>1.67204</td>\n",
       "      <td>2.01232e-05</td>\n",
       "      <td>0.00577536</td>\n",
       "      <td>130</td>\n",
       "      <td>i</td>\n",
       "      <td>[0, 1, 0, 0, 0, -1]</td>\n",
       "      <td>ROW</td>\n",
       "      <td>dcm2niix</td>\n",
       "      <td>v1.0.20200331</td>\n",
       "      <td>2020-07-15 15:55:12.780</td>\n",
       "    </tr>\n",
       "    <tr>\n",
       "      <th>7</th>\n",
       "      <td>Head_coil_HN_Head</td>\n",
       "      <td>1406.25</td>\n",
       "      <td>124.406</td>\n",
       "      <td>101.469</td>\n",
       "      <td>8.97655</td>\n",
       "      <td>/Users/papo/Desktop/test/Head_coil/Head_coil_H...</td>\n",
       "      <td>(256, 258)</td>\n",
       "      <td>(0.9765625298023224, 0.9689922776333121, 5)</td>\n",
       "      <td>33.28</td>\n",
       "      <td>0.4</td>\n",
       "      <td>...</td>\n",
       "      <td>1.67204</td>\n",
       "      <td>2.01233e-05</td>\n",
       "      <td>0.00577538</td>\n",
       "      <td>130</td>\n",
       "      <td>j</td>\n",
       "      <td>[1, 0, 0, 0, 1, 0]</td>\n",
       "      <td>COL</td>\n",
       "      <td>dcm2niix</td>\n",
       "      <td>v1.0.20200331</td>\n",
       "      <td>2020-07-15 15:40:06.570</td>\n",
       "    </tr>\n",
       "  </tbody>\n",
       "</table>\n",
       "<p>8 rows × 70 columns</p>\n",
       "</div>"
      ],
      "text/plain": [
       "0                    Name     NSNR NSNR_std      SNR  SNR_std  \\\n",
       "0     Anterior11_Ant_Post  671.266  188.295  205.312  57.5917   \n",
       "1     Anterior12_Ant_Post  783.353  222.738  239.595  68.1264   \n",
       "2        Flex_L_Flex_coil  1177.15  74.6712  84.9379  5.38794   \n",
       "3        Flex_M_Flex_coil  987.902  78.1351  71.2825  5.63787   \n",
       "4        Flex_S_Flex_coil  543.669  45.8599  39.2287  3.30904   \n",
       "5  Head_Neck_Coil_HN_Head   1440.7  102.534  103.954  7.39838   \n",
       "6  Head_Neck_Coil_HN_Neck  1002.35  101.182  72.3253  7.30084   \n",
       "7       Head_coil_HN_Head  1406.25  124.406  101.469  8.97655   \n",
       "\n",
       "0                                               File AcquisitonMatrix  \\\n",
       "0  /Users/papo/Desktop/test/Anterior11/Anterior11...       (224, 225)   \n",
       "1  /Users/papo/Desktop/test/Anterior12/Anterior12...       (224, 225)   \n",
       "2  /Users/papo/Desktop/test/Flex_L/Flex_L_Flex_co...       (256, 258)   \n",
       "3  /Users/papo/Desktop/test/Flex_M/Flex_M_Flex_co...       (256, 258)   \n",
       "4  /Users/papo/Desktop/test/Flex_S/Flex_S_Flex_co...       (256, 258)   \n",
       "5  /Users/papo/Desktop/test/Head_Neck_Coil/Head_N...       (256, 258)   \n",
       "6  /Users/papo/Desktop/test/Head_Neck_Coil/Head_N...       (256, 258)   \n",
       "7  /Users/papo/Desktop/test/Head_coil/Head_coil_H...       (256, 258)   \n",
       "\n",
       "0                             AcquisitonPixdim BW_KHz ScriptVersion  ...  \\\n",
       "0     (2.008928622518267, 2.00000005086263, 5)  29.12           0.4  ...   \n",
       "1     (2.008928622518267, 2.00000005086263, 5)  29.12           0.4  ...   \n",
       "2  (0.9765625298023224, 0.9689922776333121, 5)  33.28           0.4  ...   \n",
       "3  (0.9765625298023224, 0.9689922776333121, 5)  33.28           0.4  ...   \n",
       "4  (0.9765625298023224, 0.9689922776333121, 5)  33.28           0.4  ...   \n",
       "5  (0.9765625298023224, 0.9689922776333121, 5)  33.28           0.4  ...   \n",
       "6  (0.9765625298023224, 0.9689922776333121, 5)  33.28           0.4  ...   \n",
       "7  (0.9765625298023224, 0.9689922776333121, 5)  33.28           0.4  ...   \n",
       "\n",
       "0 WaterFatShift EstimatedEffectiveEchoSpacing EstimatedTotalReadoutTime  \\\n",
       "0       1.66926                   1.09407e-05                0.00576577   \n",
       "1       1.66926                   1.09408e-05                0.00576578   \n",
       "2       1.67204                   2.01233e-05                0.00577538   \n",
       "3       1.67204                   2.01233e-05                0.00577538   \n",
       "4       1.67204                   2.01233e-05                0.00577538   \n",
       "5       1.67204                   2.01233e-05                0.00577537   \n",
       "6       1.67204                   2.01232e-05                0.00577536   \n",
       "7       1.67204                   2.01233e-05                0.00577538   \n",
       "\n",
       "0 PixelBandwidth PhaseEncodingAxis  \\\n",
       "0            130                 i   \n",
       "1            130                 i   \n",
       "2            130                 i   \n",
       "3            130                 i   \n",
       "4            130                 i   \n",
       "5            130                 j   \n",
       "6            130                 i   \n",
       "7            130                 j   \n",
       "\n",
       "0                       ImageOrientationPatientDICOM  \\\n",
       "0                                [1, 0, 0, 0, 0, -1]   \n",
       "1                                [1, 0, 0, 0, 0, -1]   \n",
       "2                                 [1, 0, 0, 0, 1, 0]   \n",
       "3  [0.998595, 3.30535e-10, -0.0529978, 0.0058124,...   \n",
       "4  [0.998707, 0.000582208, -0.0508303, -0.0031161...   \n",
       "5                                 [1, 0, 0, 0, 1, 0]   \n",
       "6                                [0, 1, 0, 0, 0, -1]   \n",
       "7                                 [1, 0, 0, 0, 1, 0]   \n",
       "\n",
       "0 InPlanePhaseEncodingDirectionDICOM ConversionSoftware  \\\n",
       "0                                ROW           dcm2niix   \n",
       "1                                ROW           dcm2niix   \n",
       "2                                ROW           dcm2niix   \n",
       "3                                ROW           dcm2niix   \n",
       "4                                ROW           dcm2niix   \n",
       "5                                COL           dcm2niix   \n",
       "6                                ROW           dcm2niix   \n",
       "7                                COL           dcm2niix   \n",
       "\n",
       "0 ConversionSoftwareVersion        Acquisition Date  \n",
       "0             v1.0.20200331 2020-07-15 16:29:04.870  \n",
       "1             v1.0.20200331 2020-07-15 16:19:28.780  \n",
       "2             v1.0.20200331 2020-07-15 14:51:25.440  \n",
       "3             v1.0.20200331 2020-07-15 15:06:46.870  \n",
       "4             v1.0.20200331 2020-07-15 15:23:34.830  \n",
       "5             v1.0.20200331 2020-07-15 15:50:59.370  \n",
       "6             v1.0.20200331 2020-07-15 15:55:12.780  \n",
       "7             v1.0.20200331 2020-07-15 15:40:06.570  \n",
       "\n",
       "[8 rows x 70 columns]"
      ]
     },
     "execution_count": 20,
     "metadata": {},
     "output_type": "execute_result"
    }
   ],
   "source": [
    "# Show results and combine them into a df\n",
    "plt.close('all')\n",
    "frames=[]\n",
    "for n,test in enumerate(tests):\n",
    "    print(f'test {n+1}, {test.name}:\\n   SNR={int(np.round(test.SNR_global))}\\n   nSNR={int(np.round(test.nSNR))}\\n')\n",
    "#     test.plot()\n",
    "    frames.append(test.results_df)\n",
    "    \n",
    "all_df=pd.concat(frames).reindex()\n",
    "all_df.reset_index(drop=True, inplace=True)\n",
    "all_df['Acquisition Date'] = pd.to_datetime(all_df['AcquisitionDateTime'])\n",
    "all_df.drop(columns=['AcquisitionDateTime'],inplace=True)\n",
    "\n",
    "all_df"
   ]
  },
  {
   "cell_type": "code",
   "execution_count": 32,
   "metadata": {},
   "outputs": [
    {
     "data": {
      "application/vnd.plotly.v1+json": {
       "config": {
        "plotlyServerURL": "https://plot.ly"
       },
       "data": [
        {
         "error_y": {
          "array": [
           188.29506660032615
          ]
         },
         "hovertemplate": "Name=Anterior11_Ant_Post<br>Acquisition Date=%{x}<br>NSNR=%{y}<extra></extra>",
         "legendgroup": "Anterior11_Ant_Post",
         "marker": {
          "color": "#636efa",
          "symbol": "circle"
         },
         "mode": "markers",
         "name": "Anterior11_Ant_Post",
         "orientation": "v",
         "showlegend": true,
         "type": "scatter",
         "x": [
          "2020-07-15T16:29:04.870000"
         ],
         "xaxis": "x",
         "y": [
          671.2655514005276
         ],
         "yaxis": "y"
        },
        {
         "error_y": {
          "array": [
           222.73816454663938
          ]
         },
         "hovertemplate": "Name=Anterior12_Ant_Post<br>Acquisition Date=%{x}<br>NSNR=%{y}<extra></extra>",
         "legendgroup": "Anterior12_Ant_Post",
         "marker": {
          "color": "#EF553B",
          "symbol": "circle"
         },
         "mode": "markers",
         "name": "Anterior12_Ant_Post",
         "orientation": "v",
         "showlegend": true,
         "type": "scatter",
         "x": [
          "2020-07-15T16:19:28.780000"
         ],
         "xaxis": "x",
         "y": [
          783.3533393620992
         ],
         "yaxis": "y"
        },
        {
         "error_y": {
          "array": [
           74.67120972576859
          ]
         },
         "hovertemplate": "Name=Flex_L_Flex_coil<br>Acquisition Date=%{x}<br>NSNR=%{y}<extra></extra>",
         "legendgroup": "Flex_L_Flex_coil",
         "marker": {
          "color": "#00cc96",
          "symbol": "circle"
         },
         "mode": "markers",
         "name": "Flex_L_Flex_coil",
         "orientation": "v",
         "showlegend": true,
         "type": "scatter",
         "x": [
          "2020-07-15T14:51:25.440000"
         ],
         "xaxis": "x",
         "y": [
          1177.151583302405
         ],
         "yaxis": "y"
        },
        {
         "error_y": {
          "array": [
           78.13506748294319
          ]
         },
         "hovertemplate": "Name=Flex_M_Flex_coil<br>Acquisition Date=%{x}<br>NSNR=%{y}<extra></extra>",
         "legendgroup": "Flex_M_Flex_coil",
         "marker": {
          "color": "#ab63fa",
          "symbol": "circle"
         },
         "mode": "markers",
         "name": "Flex_M_Flex_coil",
         "orientation": "v",
         "showlegend": true,
         "type": "scatter",
         "x": [
          "2020-07-15T15:06:46.870000"
         ],
         "xaxis": "x",
         "y": [
          987.9018604344554
         ],
         "yaxis": "y"
        },
        {
         "error_y": {
          "array": [
           45.85991730560243
          ]
         },
         "hovertemplate": "Name=Flex_S_Flex_coil<br>Acquisition Date=%{x}<br>NSNR=%{y}<extra></extra>",
         "legendgroup": "Flex_S_Flex_coil",
         "marker": {
          "color": "#FFA15A",
          "symbol": "circle"
         },
         "mode": "markers",
         "name": "Flex_S_Flex_coil",
         "orientation": "v",
         "showlegend": true,
         "type": "scatter",
         "x": [
          "2020-07-15T15:23:34.830000"
         ],
         "xaxis": "x",
         "y": [
          543.6690145427366
         ],
         "yaxis": "y"
        },
        {
         "error_y": {
          "array": [
           102.53384866962458
          ]
         },
         "hovertemplate": "Name=Head_Neck_Coil_HN_Head<br>Acquisition Date=%{x}<br>NSNR=%{y}<extra></extra>",
         "legendgroup": "Head_Neck_Coil_HN_Head",
         "marker": {
          "color": "#19d3f3",
          "symbol": "circle"
         },
         "mode": "markers",
         "name": "Head_Neck_Coil_HN_Head",
         "orientation": "v",
         "showlegend": true,
         "type": "scatter",
         "x": [
          "2020-07-15T15:50:59.370000"
         ],
         "xaxis": "x",
         "y": [
          1440.70115853016
         ],
         "yaxis": "y"
        },
        {
         "error_y": {
          "array": [
           101.18208910729793
          ]
         },
         "hovertemplate": "Name=Head_Neck_Coil_HN_Neck<br>Acquisition Date=%{x}<br>NSNR=%{y}<extra></extra>",
         "legendgroup": "Head_Neck_Coil_HN_Neck",
         "marker": {
          "color": "#FF6692",
          "symbol": "circle"
         },
         "mode": "markers",
         "name": "Head_Neck_Coil_HN_Neck",
         "orientation": "v",
         "showlegend": true,
         "type": "scatter",
         "x": [
          "2020-07-15T15:55:12.780000"
         ],
         "xaxis": "x",
         "y": [
          1002.3531599048553
         ],
         "yaxis": "y"
        },
        {
         "error_y": {
          "array": [
           124.40563200373342
          ]
         },
         "hovertemplate": "Name=Head_coil_HN_Head<br>Acquisition Date=%{x}<br>NSNR=%{y}<extra></extra>",
         "legendgroup": "Head_coil_HN_Head",
         "marker": {
          "color": "#B6E880",
          "symbol": "circle"
         },
         "mode": "markers",
         "name": "Head_coil_HN_Head",
         "orientation": "v",
         "showlegend": true,
         "type": "scatter",
         "x": [
          "2020-07-15T15:40:06.570000"
         ],
         "xaxis": "x",
         "y": [
          1406.2512966866275
         ],
         "yaxis": "y"
        }
       ],
       "layout": {
        "autosize": true,
        "legend": {
         "title": {
          "text": "Name"
         },
         "tracegroupgap": 0
        },
        "template": {
         "data": {
          "bar": [
           {
            "error_x": {
             "color": "#2a3f5f"
            },
            "error_y": {
             "color": "#2a3f5f"
            },
            "marker": {
             "line": {
              "color": "#E5ECF6",
              "width": 0.5
             }
            },
            "type": "bar"
           }
          ],
          "barpolar": [
           {
            "marker": {
             "line": {
              "color": "#E5ECF6",
              "width": 0.5
             }
            },
            "type": "barpolar"
           }
          ],
          "carpet": [
           {
            "aaxis": {
             "endlinecolor": "#2a3f5f",
             "gridcolor": "white",
             "linecolor": "white",
             "minorgridcolor": "white",
             "startlinecolor": "#2a3f5f"
            },
            "baxis": {
             "endlinecolor": "#2a3f5f",
             "gridcolor": "white",
             "linecolor": "white",
             "minorgridcolor": "white",
             "startlinecolor": "#2a3f5f"
            },
            "type": "carpet"
           }
          ],
          "choropleth": [
           {
            "colorbar": {
             "outlinewidth": 0,
             "ticks": ""
            },
            "type": "choropleth"
           }
          ],
          "contour": [
           {
            "colorbar": {
             "outlinewidth": 0,
             "ticks": ""
            },
            "colorscale": [
             [
              0,
              "#0d0887"
             ],
             [
              0.1111111111111111,
              "#46039f"
             ],
             [
              0.2222222222222222,
              "#7201a8"
             ],
             [
              0.3333333333333333,
              "#9c179e"
             ],
             [
              0.4444444444444444,
              "#bd3786"
             ],
             [
              0.5555555555555556,
              "#d8576b"
             ],
             [
              0.6666666666666666,
              "#ed7953"
             ],
             [
              0.7777777777777778,
              "#fb9f3a"
             ],
             [
              0.8888888888888888,
              "#fdca26"
             ],
             [
              1,
              "#f0f921"
             ]
            ],
            "type": "contour"
           }
          ],
          "contourcarpet": [
           {
            "colorbar": {
             "outlinewidth": 0,
             "ticks": ""
            },
            "type": "contourcarpet"
           }
          ],
          "heatmap": [
           {
            "colorbar": {
             "outlinewidth": 0,
             "ticks": ""
            },
            "colorscale": [
             [
              0,
              "#0d0887"
             ],
             [
              0.1111111111111111,
              "#46039f"
             ],
             [
              0.2222222222222222,
              "#7201a8"
             ],
             [
              0.3333333333333333,
              "#9c179e"
             ],
             [
              0.4444444444444444,
              "#bd3786"
             ],
             [
              0.5555555555555556,
              "#d8576b"
             ],
             [
              0.6666666666666666,
              "#ed7953"
             ],
             [
              0.7777777777777778,
              "#fb9f3a"
             ],
             [
              0.8888888888888888,
              "#fdca26"
             ],
             [
              1,
              "#f0f921"
             ]
            ],
            "type": "heatmap"
           }
          ],
          "heatmapgl": [
           {
            "colorbar": {
             "outlinewidth": 0,
             "ticks": ""
            },
            "colorscale": [
             [
              0,
              "#0d0887"
             ],
             [
              0.1111111111111111,
              "#46039f"
             ],
             [
              0.2222222222222222,
              "#7201a8"
             ],
             [
              0.3333333333333333,
              "#9c179e"
             ],
             [
              0.4444444444444444,
              "#bd3786"
             ],
             [
              0.5555555555555556,
              "#d8576b"
             ],
             [
              0.6666666666666666,
              "#ed7953"
             ],
             [
              0.7777777777777778,
              "#fb9f3a"
             ],
             [
              0.8888888888888888,
              "#fdca26"
             ],
             [
              1,
              "#f0f921"
             ]
            ],
            "type": "heatmapgl"
           }
          ],
          "histogram": [
           {
            "marker": {
             "colorbar": {
              "outlinewidth": 0,
              "ticks": ""
             }
            },
            "type": "histogram"
           }
          ],
          "histogram2d": [
           {
            "colorbar": {
             "outlinewidth": 0,
             "ticks": ""
            },
            "colorscale": [
             [
              0,
              "#0d0887"
             ],
             [
              0.1111111111111111,
              "#46039f"
             ],
             [
              0.2222222222222222,
              "#7201a8"
             ],
             [
              0.3333333333333333,
              "#9c179e"
             ],
             [
              0.4444444444444444,
              "#bd3786"
             ],
             [
              0.5555555555555556,
              "#d8576b"
             ],
             [
              0.6666666666666666,
              "#ed7953"
             ],
             [
              0.7777777777777778,
              "#fb9f3a"
             ],
             [
              0.8888888888888888,
              "#fdca26"
             ],
             [
              1,
              "#f0f921"
             ]
            ],
            "type": "histogram2d"
           }
          ],
          "histogram2dcontour": [
           {
            "colorbar": {
             "outlinewidth": 0,
             "ticks": ""
            },
            "colorscale": [
             [
              0,
              "#0d0887"
             ],
             [
              0.1111111111111111,
              "#46039f"
             ],
             [
              0.2222222222222222,
              "#7201a8"
             ],
             [
              0.3333333333333333,
              "#9c179e"
             ],
             [
              0.4444444444444444,
              "#bd3786"
             ],
             [
              0.5555555555555556,
              "#d8576b"
             ],
             [
              0.6666666666666666,
              "#ed7953"
             ],
             [
              0.7777777777777778,
              "#fb9f3a"
             ],
             [
              0.8888888888888888,
              "#fdca26"
             ],
             [
              1,
              "#f0f921"
             ]
            ],
            "type": "histogram2dcontour"
           }
          ],
          "mesh3d": [
           {
            "colorbar": {
             "outlinewidth": 0,
             "ticks": ""
            },
            "type": "mesh3d"
           }
          ],
          "parcoords": [
           {
            "line": {
             "colorbar": {
              "outlinewidth": 0,
              "ticks": ""
             }
            },
            "type": "parcoords"
           }
          ],
          "pie": [
           {
            "automargin": true,
            "type": "pie"
           }
          ],
          "scatter": [
           {
            "marker": {
             "colorbar": {
              "outlinewidth": 0,
              "ticks": ""
             }
            },
            "type": "scatter"
           }
          ],
          "scatter3d": [
           {
            "line": {
             "colorbar": {
              "outlinewidth": 0,
              "ticks": ""
             }
            },
            "marker": {
             "colorbar": {
              "outlinewidth": 0,
              "ticks": ""
             }
            },
            "type": "scatter3d"
           }
          ],
          "scattercarpet": [
           {
            "marker": {
             "colorbar": {
              "outlinewidth": 0,
              "ticks": ""
             }
            },
            "type": "scattercarpet"
           }
          ],
          "scattergeo": [
           {
            "marker": {
             "colorbar": {
              "outlinewidth": 0,
              "ticks": ""
             }
            },
            "type": "scattergeo"
           }
          ],
          "scattergl": [
           {
            "marker": {
             "colorbar": {
              "outlinewidth": 0,
              "ticks": ""
             }
            },
            "type": "scattergl"
           }
          ],
          "scattermapbox": [
           {
            "marker": {
             "colorbar": {
              "outlinewidth": 0,
              "ticks": ""
             }
            },
            "type": "scattermapbox"
           }
          ],
          "scatterpolar": [
           {
            "marker": {
             "colorbar": {
              "outlinewidth": 0,
              "ticks": ""
             }
            },
            "type": "scatterpolar"
           }
          ],
          "scatterpolargl": [
           {
            "marker": {
             "colorbar": {
              "outlinewidth": 0,
              "ticks": ""
             }
            },
            "type": "scatterpolargl"
           }
          ],
          "scatterternary": [
           {
            "marker": {
             "colorbar": {
              "outlinewidth": 0,
              "ticks": ""
             }
            },
            "type": "scatterternary"
           }
          ],
          "surface": [
           {
            "colorbar": {
             "outlinewidth": 0,
             "ticks": ""
            },
            "colorscale": [
             [
              0,
              "#0d0887"
             ],
             [
              0.1111111111111111,
              "#46039f"
             ],
             [
              0.2222222222222222,
              "#7201a8"
             ],
             [
              0.3333333333333333,
              "#9c179e"
             ],
             [
              0.4444444444444444,
              "#bd3786"
             ],
             [
              0.5555555555555556,
              "#d8576b"
             ],
             [
              0.6666666666666666,
              "#ed7953"
             ],
             [
              0.7777777777777778,
              "#fb9f3a"
             ],
             [
              0.8888888888888888,
              "#fdca26"
             ],
             [
              1,
              "#f0f921"
             ]
            ],
            "type": "surface"
           }
          ],
          "table": [
           {
            "cells": {
             "fill": {
              "color": "#EBF0F8"
             },
             "line": {
              "color": "white"
             }
            },
            "header": {
             "fill": {
              "color": "#C8D4E3"
             },
             "line": {
              "color": "white"
             }
            },
            "type": "table"
           }
          ]
         },
         "layout": {
          "annotationdefaults": {
           "arrowcolor": "#2a3f5f",
           "arrowhead": 0,
           "arrowwidth": 1
          },
          "coloraxis": {
           "colorbar": {
            "outlinewidth": 0,
            "ticks": ""
           }
          },
          "colorscale": {
           "diverging": [
            [
             0,
             "#8e0152"
            ],
            [
             0.1,
             "#c51b7d"
            ],
            [
             0.2,
             "#de77ae"
            ],
            [
             0.3,
             "#f1b6da"
            ],
            [
             0.4,
             "#fde0ef"
            ],
            [
             0.5,
             "#f7f7f7"
            ],
            [
             0.6,
             "#e6f5d0"
            ],
            [
             0.7,
             "#b8e186"
            ],
            [
             0.8,
             "#7fbc41"
            ],
            [
             0.9,
             "#4d9221"
            ],
            [
             1,
             "#276419"
            ]
           ],
           "sequential": [
            [
             0,
             "#0d0887"
            ],
            [
             0.1111111111111111,
             "#46039f"
            ],
            [
             0.2222222222222222,
             "#7201a8"
            ],
            [
             0.3333333333333333,
             "#9c179e"
            ],
            [
             0.4444444444444444,
             "#bd3786"
            ],
            [
             0.5555555555555556,
             "#d8576b"
            ],
            [
             0.6666666666666666,
             "#ed7953"
            ],
            [
             0.7777777777777778,
             "#fb9f3a"
            ],
            [
             0.8888888888888888,
             "#fdca26"
            ],
            [
             1,
             "#f0f921"
            ]
           ],
           "sequentialminus": [
            [
             0,
             "#0d0887"
            ],
            [
             0.1111111111111111,
             "#46039f"
            ],
            [
             0.2222222222222222,
             "#7201a8"
            ],
            [
             0.3333333333333333,
             "#9c179e"
            ],
            [
             0.4444444444444444,
             "#bd3786"
            ],
            [
             0.5555555555555556,
             "#d8576b"
            ],
            [
             0.6666666666666666,
             "#ed7953"
            ],
            [
             0.7777777777777778,
             "#fb9f3a"
            ],
            [
             0.8888888888888888,
             "#fdca26"
            ],
            [
             1,
             "#f0f921"
            ]
           ]
          },
          "colorway": [
           "#636efa",
           "#EF553B",
           "#00cc96",
           "#ab63fa",
           "#FFA15A",
           "#19d3f3",
           "#FF6692",
           "#B6E880",
           "#FF97FF",
           "#FECB52"
          ],
          "font": {
           "color": "#2a3f5f"
          },
          "geo": {
           "bgcolor": "white",
           "lakecolor": "white",
           "landcolor": "#E5ECF6",
           "showlakes": true,
           "showland": true,
           "subunitcolor": "white"
          },
          "hoverlabel": {
           "align": "left"
          },
          "hovermode": "closest",
          "mapbox": {
           "style": "light"
          },
          "paper_bgcolor": "white",
          "plot_bgcolor": "#E5ECF6",
          "polar": {
           "angularaxis": {
            "gridcolor": "white",
            "linecolor": "white",
            "ticks": ""
           },
           "bgcolor": "#E5ECF6",
           "radialaxis": {
            "gridcolor": "white",
            "linecolor": "white",
            "ticks": ""
           }
          },
          "scene": {
           "xaxis": {
            "backgroundcolor": "#E5ECF6",
            "gridcolor": "white",
            "gridwidth": 2,
            "linecolor": "white",
            "showbackground": true,
            "ticks": "",
            "zerolinecolor": "white"
           },
           "yaxis": {
            "backgroundcolor": "#E5ECF6",
            "gridcolor": "white",
            "gridwidth": 2,
            "linecolor": "white",
            "showbackground": true,
            "ticks": "",
            "zerolinecolor": "white"
           },
           "zaxis": {
            "backgroundcolor": "#E5ECF6",
            "gridcolor": "white",
            "gridwidth": 2,
            "linecolor": "white",
            "showbackground": true,
            "ticks": "",
            "zerolinecolor": "white"
           }
          },
          "shapedefaults": {
           "line": {
            "color": "#2a3f5f"
           }
          },
          "ternary": {
           "aaxis": {
            "gridcolor": "white",
            "linecolor": "white",
            "ticks": ""
           },
           "baxis": {
            "gridcolor": "white",
            "linecolor": "white",
            "ticks": ""
           },
           "bgcolor": "#E5ECF6",
           "caxis": {
            "gridcolor": "white",
            "linecolor": "white",
            "ticks": ""
           }
          },
          "title": {
           "x": 0.05
          },
          "xaxis": {
           "automargin": true,
           "gridcolor": "white",
           "linecolor": "white",
           "ticks": "",
           "title": {
            "standoff": 15
           },
           "zerolinecolor": "white",
           "zerolinewidth": 2
          },
          "yaxis": {
           "automargin": true,
           "gridcolor": "white",
           "linecolor": "white",
           "ticks": "",
           "title": {
            "standoff": 15
           },
           "zerolinecolor": "white",
           "zerolinewidth": 2
          }
         }
        },
        "title": {
         "text": "Daily QA: Ingenia_Ambition_X (25_Grafton_Way)"
        },
        "xaxis": {
         "anchor": "y",
         "autorange": true,
         "domain": [
          0,
          1
         ],
         "range": [
          "2020-07-15 14:45:16.8346",
          "2020-07-15 16:35:13.4754"
         ],
         "title": {
          "text": "Acquisition Date"
         },
         "type": "date"
        },
        "yaxis": {
         "anchor": "x",
         "autorange": true,
         "domain": [
          0,
          1
         ],
         "range": [
          424.06690022244675,
          1602.1385917775392
         ],
         "title": {
          "text": "NSNR"
         },
         "type": "linear"
        }
       }
      },
      "image/png": "[encoded data removed]",
      "text/html": [
       "<div>\n",
       "        \n",
       "        \n",
       "            <div id=\"0582be6f-e654-4a2e-98ce-b0fd915b4c3f\" class=\"plotly-graph-div\" style=\"height:525px; width:100%;\"></div>\n",
       "            <script type=\"text/javascript\">\n",
       "                require([\"plotly\"], function(Plotly) {\n",
       "                    window.PLOTLYENV=window.PLOTLYENV || {};\n",
       "                    \n",
       "                if (document.getElementById(\"0582be6f-e654-4a2e-98ce-b0fd915b4c3f\")) {\n",
       "                    Plotly.newPlot(\n",
       "                        '0582be6f-e654-4a2e-98ce-b0fd915b4c3f',\n",
       "                        [{\"error_y\": {\"array\": [188.29506660032615]}, \"hovertemplate\": \"Name=Anterior11_Ant_Post<br>Acquisition Date=%{x}<br>NSNR=%{y}<extra></extra>\", \"legendgroup\": \"Anterior11_Ant_Post\", \"marker\": {\"color\": \"#636efa\", \"symbol\": \"circle\"}, \"mode\": \"markers\", \"name\": \"Anterior11_Ant_Post\", \"orientation\": \"v\", \"showlegend\": true, \"type\": \"scatter\", \"x\": [\"2020-07-15T16:29:04.870000\"], \"xaxis\": \"x\", \"y\": [671.2655514005276], \"yaxis\": \"y\"}, {\"error_y\": {\"array\": [222.73816454663938]}, \"hovertemplate\": \"Name=Anterior12_Ant_Post<br>Acquisition Date=%{x}<br>NSNR=%{y}<extra></extra>\", \"legendgroup\": \"Anterior12_Ant_Post\", \"marker\": {\"color\": \"#EF553B\", \"symbol\": \"circle\"}, \"mode\": \"markers\", \"name\": \"Anterior12_Ant_Post\", \"orientation\": \"v\", \"showlegend\": true, \"type\": \"scatter\", \"x\": [\"2020-07-15T16:19:28.780000\"], \"xaxis\": \"x\", \"y\": [783.3533393620992], \"yaxis\": \"y\"}, {\"error_y\": {\"array\": [74.67120972576859]}, \"hovertemplate\": \"Name=Flex_L_Flex_coil<br>Acquisition Date=%{x}<br>NSNR=%{y}<extra></extra>\", \"legendgroup\": \"Flex_L_Flex_coil\", \"marker\": {\"color\": \"#00cc96\", \"symbol\": \"circle\"}, \"mode\": \"markers\", \"name\": \"Flex_L_Flex_coil\", \"orientation\": \"v\", \"showlegend\": true, \"type\": \"scatter\", \"x\": [\"2020-07-15T14:51:25.440000\"], \"xaxis\": \"x\", \"y\": [1177.151583302405], \"yaxis\": \"y\"}, {\"error_y\": {\"array\": [78.13506748294319]}, \"hovertemplate\": \"Name=Flex_M_Flex_coil<br>Acquisition Date=%{x}<br>NSNR=%{y}<extra></extra>\", \"legendgroup\": \"Flex_M_Flex_coil\", \"marker\": {\"color\": \"#ab63fa\", \"symbol\": \"circle\"}, \"mode\": \"markers\", \"name\": \"Flex_M_Flex_coil\", \"orientation\": \"v\", \"showlegend\": true, \"type\": \"scatter\", \"x\": [\"2020-07-15T15:06:46.870000\"], \"xaxis\": \"x\", \"y\": [987.9018604344554], \"yaxis\": \"y\"}, {\"error_y\": {\"array\": [45.85991730560243]}, \"hovertemplate\": \"Name=Flex_S_Flex_coil<br>Acquisition Date=%{x}<br>NSNR=%{y}<extra></extra>\", \"legendgroup\": \"Flex_S_Flex_coil\", \"marker\": {\"color\": \"#FFA15A\", \"symbol\": \"circle\"}, \"mode\": \"markers\", \"name\": \"Flex_S_Flex_coil\", \"orientation\": \"v\", \"showlegend\": true, \"type\": \"scatter\", \"x\": [\"2020-07-15T15:23:34.830000\"], \"xaxis\": \"x\", \"y\": [543.6690145427366], \"yaxis\": \"y\"}, {\"error_y\": {\"array\": [102.53384866962458]}, \"hovertemplate\": \"Name=Head_Neck_Coil_HN_Head<br>Acquisition Date=%{x}<br>NSNR=%{y}<extra></extra>\", \"legendgroup\": \"Head_Neck_Coil_HN_Head\", \"marker\": {\"color\": \"#19d3f3\", \"symbol\": \"circle\"}, \"mode\": \"markers\", \"name\": \"Head_Neck_Coil_HN_Head\", \"orientation\": \"v\", \"showlegend\": true, \"type\": \"scatter\", \"x\": [\"2020-07-15T15:50:59.370000\"], \"xaxis\": \"x\", \"y\": [1440.70115853016], \"yaxis\": \"y\"}, {\"error_y\": {\"array\": [101.18208910729793]}, \"hovertemplate\": \"Name=Head_Neck_Coil_HN_Neck<br>Acquisition Date=%{x}<br>NSNR=%{y}<extra></extra>\", \"legendgroup\": \"Head_Neck_Coil_HN_Neck\", \"marker\": {\"color\": \"#FF6692\", \"symbol\": \"circle\"}, \"mode\": \"markers\", \"name\": \"Head_Neck_Coil_HN_Neck\", \"orientation\": \"v\", \"showlegend\": true, \"type\": \"scatter\", \"x\": [\"2020-07-15T15:55:12.780000\"], \"xaxis\": \"x\", \"y\": [1002.3531599048553], \"yaxis\": \"y\"}, {\"error_y\": {\"array\": [124.40563200373342]}, \"hovertemplate\": \"Name=Head_coil_HN_Head<br>Acquisition Date=%{x}<br>NSNR=%{y}<extra></extra>\", \"legendgroup\": \"Head_coil_HN_Head\", \"marker\": {\"color\": \"#B6E880\", \"symbol\": \"circle\"}, \"mode\": \"markers\", \"name\": \"Head_coil_HN_Head\", \"orientation\": \"v\", \"showlegend\": true, \"type\": \"scatter\", \"x\": [\"2020-07-15T15:40:06.570000\"], \"xaxis\": \"x\", \"y\": [1406.2512966866275], \"yaxis\": \"y\"}],\n",
       "                        {\"legend\": {\"title\": {\"text\": \"Name\"}, \"tracegroupgap\": 0}, \"template\": {\"data\": {\"bar\": [{\"error_x\": {\"color\": \"#2a3f5f\"}, \"error_y\": {\"color\": \"#2a3f5f\"}, \"marker\": {\"line\": {\"color\": \"#E5ECF6\", \"width\": 0.5}}, \"type\": \"bar\"}], \"barpolar\": [{\"marker\": {\"line\": {\"color\": \"#E5ECF6\", \"width\": 0.5}}, \"type\": \"barpolar\"}], \"carpet\": [{\"aaxis\": {\"endlinecolor\": \"#2a3f5f\", \"gridcolor\": \"white\", \"linecolor\": \"white\", \"minorgridcolor\": \"white\", \"startlinecolor\": \"#2a3f5f\"}, \"baxis\": {\"endlinecolor\": \"#2a3f5f\", \"gridcolor\": \"white\", \"linecolor\": \"white\", \"minorgridcolor\": \"white\", \"startlinecolor\": \"#2a3f5f\"}, \"type\": \"carpet\"}], \"choropleth\": [{\"colorbar\": {\"outlinewidth\": 0, \"ticks\": \"\"}, \"type\": \"choropleth\"}], \"contour\": [{\"colorbar\": {\"outlinewidth\": 0, \"ticks\": \"\"}, \"colorscale\": [[0.0, \"#0d0887\"], [0.1111111111111111, \"#46039f\"], [0.2222222222222222, \"#7201a8\"], [0.3333333333333333, \"#9c179e\"], [0.4444444444444444, \"#bd3786\"], [0.5555555555555556, \"#d8576b\"], [0.6666666666666666, \"#ed7953\"], [0.7777777777777778, \"#fb9f3a\"], [0.8888888888888888, \"#fdca26\"], [1.0, \"#f0f921\"]], \"type\": \"contour\"}], \"contourcarpet\": [{\"colorbar\": {\"outlinewidth\": 0, \"ticks\": \"\"}, \"type\": \"contourcarpet\"}], \"heatmap\": [{\"colorbar\": {\"outlinewidth\": 0, \"ticks\": \"\"}, \"colorscale\": [[0.0, \"#0d0887\"], [0.1111111111111111, \"#46039f\"], [0.2222222222222222, \"#7201a8\"], [0.3333333333333333, \"#9c179e\"], [0.4444444444444444, \"#bd3786\"], [0.5555555555555556, \"#d8576b\"], [0.6666666666666666, \"#ed7953\"], [0.7777777777777778, \"#fb9f3a\"], [0.8888888888888888, \"#fdca26\"], [1.0, \"#f0f921\"]], \"type\": \"heatmap\"}], \"heatmapgl\": [{\"colorbar\": {\"outlinewidth\": 0, \"ticks\": \"\"}, \"colorscale\": [[0.0, \"#0d0887\"], [0.1111111111111111, \"#46039f\"], [0.2222222222222222, \"#7201a8\"], [0.3333333333333333, \"#9c179e\"], [0.4444444444444444, \"#bd3786\"], [0.5555555555555556, \"#d8576b\"], [0.6666666666666666, \"#ed7953\"], [0.7777777777777778, \"#fb9f3a\"], [0.8888888888888888, \"#fdca26\"], [1.0, \"#f0f921\"]], \"type\": \"heatmapgl\"}], \"histogram\": [{\"marker\": {\"colorbar\": {\"outlinewidth\": 0, \"ticks\": \"\"}}, \"type\": \"histogram\"}], \"histogram2d\": [{\"colorbar\": {\"outlinewidth\": 0, \"ticks\": \"\"}, \"colorscale\": [[0.0, \"#0d0887\"], [0.1111111111111111, \"#46039f\"], [0.2222222222222222, \"#7201a8\"], [0.3333333333333333, \"#9c179e\"], [0.4444444444444444, \"#bd3786\"], [0.5555555555555556, \"#d8576b\"], [0.6666666666666666, \"#ed7953\"], [0.7777777777777778, \"#fb9f3a\"], [0.8888888888888888, \"#fdca26\"], [1.0, \"#f0f921\"]], \"type\": \"histogram2d\"}], \"histogram2dcontour\": [{\"colorbar\": {\"outlinewidth\": 0, \"ticks\": \"\"}, \"colorscale\": [[0.0, \"#0d0887\"], [0.1111111111111111, \"#46039f\"], [0.2222222222222222, \"#7201a8\"], [0.3333333333333333, \"#9c179e\"], [0.4444444444444444, \"#bd3786\"], [0.5555555555555556, \"#d8576b\"], [0.6666666666666666, \"#ed7953\"], [0.7777777777777778, \"#fb9f3a\"], [0.8888888888888888, \"#fdca26\"], [1.0, \"#f0f921\"]], \"type\": \"histogram2dcontour\"}], \"mesh3d\": [{\"colorbar\": {\"outlinewidth\": 0, \"ticks\": \"\"}, \"type\": \"mesh3d\"}], \"parcoords\": [{\"line\": {\"colorbar\": {\"outlinewidth\": 0, \"ticks\": \"\"}}, \"type\": \"parcoords\"}], \"pie\": [{\"automargin\": true, \"type\": \"pie\"}], \"scatter\": [{\"marker\": {\"colorbar\": {\"outlinewidth\": 0, \"ticks\": \"\"}}, \"type\": \"scatter\"}], \"scatter3d\": [{\"line\": {\"colorbar\": {\"outlinewidth\": 0, \"ticks\": \"\"}}, \"marker\": {\"colorbar\": {\"outlinewidth\": 0, \"ticks\": \"\"}}, \"type\": \"scatter3d\"}], \"scattercarpet\": [{\"marker\": {\"colorbar\": {\"outlinewidth\": 0, \"ticks\": \"\"}}, \"type\": \"scattercarpet\"}], \"scattergeo\": [{\"marker\": {\"colorbar\": {\"outlinewidth\": 0, \"ticks\": \"\"}}, \"type\": \"scattergeo\"}], \"scattergl\": [{\"marker\": {\"colorbar\": {\"outlinewidth\": 0, \"ticks\": \"\"}}, \"type\": \"scattergl\"}], \"scattermapbox\": [{\"marker\": {\"colorbar\": {\"outlinewidth\": 0, \"ticks\": \"\"}}, \"type\": \"scattermapbox\"}], \"scatterpolar\": [{\"marker\": {\"colorbar\": {\"outlinewidth\": 0, \"ticks\": \"\"}}, \"type\": \"scatterpolar\"}], \"scatterpolargl\": [{\"marker\": {\"colorbar\": {\"outlinewidth\": 0, \"ticks\": \"\"}}, \"type\": \"scatterpolargl\"}], \"scatterternary\": [{\"marker\": {\"colorbar\": {\"outlinewidth\": 0, \"ticks\": \"\"}}, \"type\": \"scatterternary\"}], \"surface\": [{\"colorbar\": {\"outlinewidth\": 0, \"ticks\": \"\"}, \"colorscale\": [[0.0, \"#0d0887\"], [0.1111111111111111, \"#46039f\"], [0.2222222222222222, \"#7201a8\"], [0.3333333333333333, \"#9c179e\"], [0.4444444444444444, \"#bd3786\"], [0.5555555555555556, \"#d8576b\"], [0.6666666666666666, \"#ed7953\"], [0.7777777777777778, \"#fb9f3a\"], [0.8888888888888888, \"#fdca26\"], [1.0, \"#f0f921\"]], \"type\": \"surface\"}], \"table\": [{\"cells\": {\"fill\": {\"color\": \"#EBF0F8\"}, \"line\": {\"color\": \"white\"}}, \"header\": {\"fill\": {\"color\": \"#C8D4E3\"}, \"line\": {\"color\": \"white\"}}, \"type\": \"table\"}]}, \"layout\": {\"annotationdefaults\": {\"arrowcolor\": \"#2a3f5f\", \"arrowhead\": 0, \"arrowwidth\": 1}, \"coloraxis\": {\"colorbar\": {\"outlinewidth\": 0, \"ticks\": \"\"}}, \"colorscale\": {\"diverging\": [[0, \"#8e0152\"], [0.1, \"#c51b7d\"], [0.2, \"#de77ae\"], [0.3, \"#f1b6da\"], [0.4, \"#fde0ef\"], [0.5, \"#f7f7f7\"], [0.6, \"#e6f5d0\"], [0.7, \"#b8e186\"], [0.8, \"#7fbc41\"], [0.9, \"#4d9221\"], [1, \"#276419\"]], \"sequential\": [[0.0, \"#0d0887\"], [0.1111111111111111, \"#46039f\"], [0.2222222222222222, \"#7201a8\"], [0.3333333333333333, \"#9c179e\"], [0.4444444444444444, \"#bd3786\"], [0.5555555555555556, \"#d8576b\"], [0.6666666666666666, \"#ed7953\"], [0.7777777777777778, \"#fb9f3a\"], [0.8888888888888888, \"#fdca26\"], [1.0, \"#f0f921\"]], \"sequentialminus\": [[0.0, \"#0d0887\"], [0.1111111111111111, \"#46039f\"], [0.2222222222222222, \"#7201a8\"], [0.3333333333333333, \"#9c179e\"], [0.4444444444444444, \"#bd3786\"], [0.5555555555555556, \"#d8576b\"], [0.6666666666666666, \"#ed7953\"], [0.7777777777777778, \"#fb9f3a\"], [0.8888888888888888, \"#fdca26\"], [1.0, \"#f0f921\"]]}, \"colorway\": [\"#636efa\", \"#EF553B\", \"#00cc96\", \"#ab63fa\", \"#FFA15A\", \"#19d3f3\", \"#FF6692\", \"#B6E880\", \"#FF97FF\", \"#FECB52\"], \"font\": {\"color\": \"#2a3f5f\"}, \"geo\": {\"bgcolor\": \"white\", \"lakecolor\": \"white\", \"landcolor\": \"#E5ECF6\", \"showlakes\": true, \"showland\": true, \"subunitcolor\": \"white\"}, \"hoverlabel\": {\"align\": \"left\"}, \"hovermode\": \"closest\", \"mapbox\": {\"style\": \"light\"}, \"paper_bgcolor\": \"white\", \"plot_bgcolor\": \"#E5ECF6\", \"polar\": {\"angularaxis\": {\"gridcolor\": \"white\", \"linecolor\": \"white\", \"ticks\": \"\"}, \"bgcolor\": \"#E5ECF6\", \"radialaxis\": {\"gridcolor\": \"white\", \"linecolor\": \"white\", \"ticks\": \"\"}}, \"scene\": {\"xaxis\": {\"backgroundcolor\": \"#E5ECF6\", \"gridcolor\": \"white\", \"gridwidth\": 2, \"linecolor\": \"white\", \"showbackground\": true, \"ticks\": \"\", \"zerolinecolor\": \"white\"}, \"yaxis\": {\"backgroundcolor\": \"#E5ECF6\", \"gridcolor\": \"white\", \"gridwidth\": 2, \"linecolor\": \"white\", \"showbackground\": true, \"ticks\": \"\", \"zerolinecolor\": \"white\"}, \"zaxis\": {\"backgroundcolor\": \"#E5ECF6\", \"gridcolor\": \"white\", \"gridwidth\": 2, \"linecolor\": \"white\", \"showbackground\": true, \"ticks\": \"\", \"zerolinecolor\": \"white\"}}, \"shapedefaults\": {\"line\": {\"color\": \"#2a3f5f\"}}, \"ternary\": {\"aaxis\": {\"gridcolor\": \"white\", \"linecolor\": \"white\", \"ticks\": \"\"}, \"baxis\": {\"gridcolor\": \"white\", \"linecolor\": \"white\", \"ticks\": \"\"}, \"bgcolor\": \"#E5ECF6\", \"caxis\": {\"gridcolor\": \"white\", \"linecolor\": \"white\", \"ticks\": \"\"}}, \"title\": {\"x\": 0.05}, \"xaxis\": {\"automargin\": true, \"gridcolor\": \"white\", \"linecolor\": \"white\", \"ticks\": \"\", \"title\": {\"standoff\": 15}, \"zerolinecolor\": \"white\", \"zerolinewidth\": 2}, \"yaxis\": {\"automargin\": true, \"gridcolor\": \"white\", \"linecolor\": \"white\", \"ticks\": \"\", \"title\": {\"standoff\": 15}, \"zerolinecolor\": \"white\", \"zerolinewidth\": 2}}}, \"title\": {\"text\": \"Daily QA: Ingenia_Ambition_X (25_Grafton_Way)\"}, \"xaxis\": {\"anchor\": \"y\", \"domain\": [0.0, 1.0], \"title\": {\"text\": \"Acquisition Date\"}}, \"yaxis\": {\"anchor\": \"x\", \"domain\": [0.0, 1.0], \"title\": {\"text\": \"NSNR\"}}},\n",
       "                        {\"responsive\": true}\n",
       "                    ).then(function(){\n",
       "                            \n",
       "var gd = document.getElementById('0582be6f-e654-4a2e-98ce-b0fd915b4c3f');\n",
       "var x = new MutationObserver(function (mutations, observer) {{\n",
       "        var display = window.getComputedStyle(gd).display;\n",
       "        if (!display || display === 'none') {{\n",
       "            console.log([gd, 'removed!']);\n",
       "            Plotly.purge(gd);\n",
       "            observer.disconnect();\n",
       "        }}\n",
       "}});\n",
       "\n",
       "// Listen for the removal of the full notebook cells\n",
       "var notebookContainer = gd.closest('#notebook-container');\n",
       "if (notebookContainer) {{\n",
       "    x.observe(notebookContainer, {childList: true});\n",
       "}}\n",
       "\n",
       "// Listen for the clearing of the current output cell\n",
       "var outputEl = gd.closest('.output');\n",
       "if (outputEl) {{\n",
       "    x.observe(outputEl, {childList: true});\n",
       "}}\n",
       "\n",
       "                        })\n",
       "                };\n",
       "                });\n",
       "            </script>\n",
       "        </div>"
      ]
     },
     "metadata": {},
     "output_type": "display_data"
    },
    {
     "data": {
      "application/vnd.plotly.v1+json": {
       "config": {
        "plotlyServerURL": "https://plot.ly"
       },
       "data": [
        {
         "alignmentgroup": "True",
         "error_y": {
          "array": [
           188.29506660032615
          ]
         },
         "hovertemplate": "Name=Anterior11_Ant_Post<br>Acquisition Date=%{x}<br>NSNR=%{y}<extra></extra>",
         "legendgroup": "Anterior11_Ant_Post",
         "marker": {
          "color": "#636efa"
         },
         "name": "Anterior11_Ant_Post",
         "offsetgroup": "Anterior11_Ant_Post",
         "orientation": "v",
         "showlegend": true,
         "textposition": "auto",
         "type": "bar",
         "x": [
          "2020-07-15T16:29:04.870000"
         ],
         "xaxis": "x",
         "y": [
          671.2655514005276
         ],
         "yaxis": "y"
        },
        {
         "alignmentgroup": "True",
         "error_y": {
          "array": [
           222.73816454663938
          ]
         },
         "hovertemplate": "Name=Anterior12_Ant_Post<br>Acquisition Date=%{x}<br>NSNR=%{y}<extra></extra>",
         "legendgroup": "Anterior12_Ant_Post",
         "marker": {
          "color": "#EF553B"
         },
         "name": "Anterior12_Ant_Post",
         "offsetgroup": "Anterior12_Ant_Post",
         "orientation": "v",
         "showlegend": true,
         "textposition": "auto",
         "type": "bar",
         "x": [
          "2020-07-15T16:19:28.780000"
         ],
         "xaxis": "x",
         "y": [
          783.3533393620992
         ],
         "yaxis": "y"
        },
        {
         "alignmentgroup": "True",
         "error_y": {
          "array": [
           74.67120972576859
          ]
         },
         "hovertemplate": "Name=Flex_L_Flex_coil<br>Acquisition Date=%{x}<br>NSNR=%{y}<extra></extra>",
         "legendgroup": "Flex_L_Flex_coil",
         "marker": {
          "color": "#00cc96"
         },
         "name": "Flex_L_Flex_coil",
         "offsetgroup": "Flex_L_Flex_coil",
         "orientation": "v",
         "showlegend": true,
         "textposition": "auto",
         "type": "bar",
         "x": [
          "2020-07-15T14:51:25.440000"
         ],
         "xaxis": "x",
         "y": [
          1177.151583302405
         ],
         "yaxis": "y"
        },
        {
         "alignmentgroup": "True",
         "error_y": {
          "array": [
           78.13506748294319
          ]
         },
         "hovertemplate": "Name=Flex_M_Flex_coil<br>Acquisition Date=%{x}<br>NSNR=%{y}<extra></extra>",
         "legendgroup": "Flex_M_Flex_coil",
         "marker": {
          "color": "#ab63fa"
         },
         "name": "Flex_M_Flex_coil",
         "offsetgroup": "Flex_M_Flex_coil",
         "orientation": "v",
         "showlegend": true,
         "textposition": "auto",
         "type": "bar",
         "x": [
          "2020-07-15T15:06:46.870000"
         ],
         "xaxis": "x",
         "y": [
          987.9018604344554
         ],
         "yaxis": "y"
        },
        {
         "alignmentgroup": "True",
         "error_y": {
          "array": [
           45.85991730560243
          ]
         },
         "hovertemplate": "Name=Flex_S_Flex_coil<br>Acquisition Date=%{x}<br>NSNR=%{y}<extra></extra>",
         "legendgroup": "Flex_S_Flex_coil",
         "marker": {
          "color": "#FFA15A"
         },
         "name": "Flex_S_Flex_coil",
         "offsetgroup": "Flex_S_Flex_coil",
         "orientation": "v",
         "showlegend": true,
         "textposition": "auto",
         "type": "bar",
         "x": [
          "2020-07-15T15:23:34.830000"
         ],
         "xaxis": "x",
         "y": [
          543.6690145427366
         ],
         "yaxis": "y"
        },
        {
         "alignmentgroup": "True",
         "error_y": {
          "array": [
           102.53384866962458
          ]
         },
         "hovertemplate": "Name=Head_Neck_Coil_HN_Head<br>Acquisition Date=%{x}<br>NSNR=%{y}<extra></extra>",
         "legendgroup": "Head_Neck_Coil_HN_Head",
         "marker": {
          "color": "#19d3f3"
         },
         "name": "Head_Neck_Coil_HN_Head",
         "offsetgroup": "Head_Neck_Coil_HN_Head",
         "orientation": "v",
         "showlegend": true,
         "textposition": "auto",
         "type": "bar",
         "x": [
          "2020-07-15T15:50:59.370000"
         ],
         "xaxis": "x",
         "y": [
          1440.70115853016
         ],
         "yaxis": "y"
        },
        {
         "alignmentgroup": "True",
         "error_y": {
          "array": [
           101.18208910729793
          ]
         },
         "hovertemplate": "Name=Head_Neck_Coil_HN_Neck<br>Acquisition Date=%{x}<br>NSNR=%{y}<extra></extra>",
         "legendgroup": "Head_Neck_Coil_HN_Neck",
         "marker": {
          "color": "#FF6692"
         },
         "name": "Head_Neck_Coil_HN_Neck",
         "offsetgroup": "Head_Neck_Coil_HN_Neck",
         "orientation": "v",
         "showlegend": true,
         "textposition": "auto",
         "type": "bar",
         "x": [
          "2020-07-15T15:55:12.780000"
         ],
         "xaxis": "x",
         "y": [
          1002.3531599048553
         ],
         "yaxis": "y"
        },
        {
         "alignmentgroup": "True",
         "error_y": {
          "array": [
           124.40563200373342
          ]
         },
         "hovertemplate": "Name=Head_coil_HN_Head<br>Acquisition Date=%{x}<br>NSNR=%{y}<extra></extra>",
         "legendgroup": "Head_coil_HN_Head",
         "marker": {
          "color": "#B6E880"
         },
         "name": "Head_coil_HN_Head",
         "offsetgroup": "Head_coil_HN_Head",
         "orientation": "v",
         "showlegend": true,
         "textposition": "auto",
         "type": "bar",
         "x": [
          "2020-07-15T15:40:06.570000"
         ],
         "xaxis": "x",
         "y": [
          1406.2512966866275
         ],
         "yaxis": "y"
        }
       ],
       "layout": {
        "autosize": true,
        "barmode": "relative",
        "legend": {
         "title": {
          "text": "Name"
         },
         "tracegroupgap": 0
        },
        "template": {
         "data": {
          "bar": [
           {
            "error_x": {
             "color": "#2a3f5f"
            },
            "error_y": {
             "color": "#2a3f5f"
            },
            "marker": {
             "line": {
              "color": "#E5ECF6",
              "width": 0.5
             }
            },
            "type": "bar"
           }
          ],
          "barpolar": [
           {
            "marker": {
             "line": {
              "color": "#E5ECF6",
              "width": 0.5
             }
            },
            "type": "barpolar"
           }
          ],
          "carpet": [
           {
            "aaxis": {
             "endlinecolor": "#2a3f5f",
             "gridcolor": "white",
             "linecolor": "white",
             "minorgridcolor": "white",
             "startlinecolor": "#2a3f5f"
            },
            "baxis": {
             "endlinecolor": "#2a3f5f",
             "gridcolor": "white",
             "linecolor": "white",
             "minorgridcolor": "white",
             "startlinecolor": "#2a3f5f"
            },
            "type": "carpet"
           }
          ],
          "choropleth": [
           {
            "colorbar": {
             "outlinewidth": 0,
             "ticks": ""
            },
            "type": "choropleth"
           }
          ],
          "contour": [
           {
            "colorbar": {
             "outlinewidth": 0,
             "ticks": ""
            },
            "colorscale": [
             [
              0,
              "#0d0887"
             ],
             [
              0.1111111111111111,
              "#46039f"
             ],
             [
              0.2222222222222222,
              "#7201a8"
             ],
             [
              0.3333333333333333,
              "#9c179e"
             ],
             [
              0.4444444444444444,
              "#bd3786"
             ],
             [
              0.5555555555555556,
              "#d8576b"
             ],
             [
              0.6666666666666666,
              "#ed7953"
             ],
             [
              0.7777777777777778,
              "#fb9f3a"
             ],
             [
              0.8888888888888888,
              "#fdca26"
             ],
             [
              1,
              "#f0f921"
             ]
            ],
            "type": "contour"
           }
          ],
          "contourcarpet": [
           {
            "colorbar": {
             "outlinewidth": 0,
             "ticks": ""
            },
            "type": "contourcarpet"
           }
          ],
          "heatmap": [
           {
            "colorbar": {
             "outlinewidth": 0,
             "ticks": ""
            },
            "colorscale": [
             [
              0,
              "#0d0887"
             ],
             [
              0.1111111111111111,
              "#46039f"
             ],
             [
              0.2222222222222222,
              "#7201a8"
             ],
             [
              0.3333333333333333,
              "#9c179e"
             ],
             [
              0.4444444444444444,
              "#bd3786"
             ],
             [
              0.5555555555555556,
              "#d8576b"
             ],
             [
              0.6666666666666666,
              "#ed7953"
             ],
             [
              0.7777777777777778,
              "#fb9f3a"
             ],
             [
              0.8888888888888888,
              "#fdca26"
             ],
             [
              1,
              "#f0f921"
             ]
            ],
            "type": "heatmap"
           }
          ],
          "heatmapgl": [
           {
            "colorbar": {
             "outlinewidth": 0,
             "ticks": ""
            },
            "colorscale": [
             [
              0,
              "#0d0887"
             ],
             [
              0.1111111111111111,
              "#46039f"
             ],
             [
              0.2222222222222222,
              "#7201a8"
             ],
             [
              0.3333333333333333,
              "#9c179e"
             ],
             [
              0.4444444444444444,
              "#bd3786"
             ],
             [
              0.5555555555555556,
              "#d8576b"
             ],
             [
              0.6666666666666666,
              "#ed7953"
             ],
             [
              0.7777777777777778,
              "#fb9f3a"
             ],
             [
              0.8888888888888888,
              "#fdca26"
             ],
             [
              1,
              "#f0f921"
             ]
            ],
            "type": "heatmapgl"
           }
          ],
          "histogram": [
           {
            "marker": {
             "colorbar": {
              "outlinewidth": 0,
              "ticks": ""
             }
            },
            "type": "histogram"
           }
          ],
          "histogram2d": [
           {
            "colorbar": {
             "outlinewidth": 0,
             "ticks": ""
            },
            "colorscale": [
             [
              0,
              "#0d0887"
             ],
             [
              0.1111111111111111,
              "#46039f"
             ],
             [
              0.2222222222222222,
              "#7201a8"
             ],
             [
              0.3333333333333333,
              "#9c179e"
             ],
             [
              0.4444444444444444,
              "#bd3786"
             ],
             [
              0.5555555555555556,
              "#d8576b"
             ],
             [
              0.6666666666666666,
              "#ed7953"
             ],
             [
              0.7777777777777778,
              "#fb9f3a"
             ],
             [
              0.8888888888888888,
              "#fdca26"
             ],
             [
              1,
              "#f0f921"
             ]
            ],
            "type": "histogram2d"
           }
          ],
          "histogram2dcontour": [
           {
            "colorbar": {
             "outlinewidth": 0,
             "ticks": ""
            },
            "colorscale": [
             [
              0,
              "#0d0887"
             ],
             [
              0.1111111111111111,
              "#46039f"
             ],
             [
              0.2222222222222222,
              "#7201a8"
             ],
             [
              0.3333333333333333,
              "#9c179e"
             ],
             [
              0.4444444444444444,
              "#bd3786"
             ],
             [
              0.5555555555555556,
              "#d8576b"
             ],
             [
              0.6666666666666666,
              "#ed7953"
             ],
             [
              0.7777777777777778,
              "#fb9f3a"
             ],
             [
              0.8888888888888888,
              "#fdca26"
             ],
             [
              1,
              "#f0f921"
             ]
            ],
            "type": "histogram2dcontour"
           }
          ],
          "mesh3d": [
           {
            "colorbar": {
             "outlinewidth": 0,
             "ticks": ""
            },
            "type": "mesh3d"
           }
          ],
          "parcoords": [
           {
            "line": {
             "colorbar": {
              "outlinewidth": 0,
              "ticks": ""
             }
            },
            "type": "parcoords"
           }
          ],
          "pie": [
           {
            "automargin": true,
            "type": "pie"
           }
          ],
          "scatter": [
           {
            "marker": {
             "colorbar": {
              "outlinewidth": 0,
              "ticks": ""
             }
            },
            "type": "scatter"
           }
          ],
          "scatter3d": [
           {
            "line": {
             "colorbar": {
              "outlinewidth": 0,
              "ticks": ""
             }
            },
            "marker": {
             "colorbar": {
              "outlinewidth": 0,
              "ticks": ""
             }
            },
            "type": "scatter3d"
           }
          ],
          "scattercarpet": [
           {
            "marker": {
             "colorbar": {
              "outlinewidth": 0,
              "ticks": ""
             }
            },
            "type": "scattercarpet"
           }
          ],
          "scattergeo": [
           {
            "marker": {
             "colorbar": {
              "outlinewidth": 0,
              "ticks": ""
             }
            },
            "type": "scattergeo"
           }
          ],
          "scattergl": [
           {
            "marker": {
             "colorbar": {
              "outlinewidth": 0,
              "ticks": ""
             }
            },
            "type": "scattergl"
           }
          ],
          "scattermapbox": [
           {
            "marker": {
             "colorbar": {
              "outlinewidth": 0,
              "ticks": ""
             }
            },
            "type": "scattermapbox"
           }
          ],
          "scatterpolar": [
           {
            "marker": {
             "colorbar": {
              "outlinewidth": 0,
              "ticks": ""
             }
            },
            "type": "scatterpolar"
           }
          ],
          "scatterpolargl": [
           {
            "marker": {
             "colorbar": {
              "outlinewidth": 0,
              "ticks": ""
             }
            },
            "type": "scatterpolargl"
           }
          ],
          "scatterternary": [
           {
            "marker": {
             "colorbar": {
              "outlinewidth": 0,
              "ticks": ""
             }
            },
            "type": "scatterternary"
           }
          ],
          "surface": [
           {
            "colorbar": {
             "outlinewidth": 0,
             "ticks": ""
            },
            "colorscale": [
             [
              0,
              "#0d0887"
             ],
             [
              0.1111111111111111,
              "#46039f"
             ],
             [
              0.2222222222222222,
              "#7201a8"
             ],
             [
              0.3333333333333333,
              "#9c179e"
             ],
             [
              0.4444444444444444,
              "#bd3786"
             ],
             [
              0.5555555555555556,
              "#d8576b"
             ],
             [
              0.6666666666666666,
              "#ed7953"
             ],
             [
              0.7777777777777778,
              "#fb9f3a"
             ],
             [
              0.8888888888888888,
              "#fdca26"
             ],
             [
              1,
              "#f0f921"
             ]
            ],
            "type": "surface"
           }
          ],
          "table": [
           {
            "cells": {
             "fill": {
              "color": "#EBF0F8"
             },
             "line": {
              "color": "white"
             }
            },
            "header": {
             "fill": {
              "color": "#C8D4E3"
             },
             "line": {
              "color": "white"
             }
            },
            "type": "table"
           }
          ]
         },
         "layout": {
          "annotationdefaults": {
           "arrowcolor": "#2a3f5f",
           "arrowhead": 0,
           "arrowwidth": 1
          },
          "coloraxis": {
           "colorbar": {
            "outlinewidth": 0,
            "ticks": ""
           }
          },
          "colorscale": {
           "diverging": [
            [
             0,
             "#8e0152"
            ],
            [
             0.1,
             "#c51b7d"
            ],
            [
             0.2,
             "#de77ae"
            ],
            [
             0.3,
             "#f1b6da"
            ],
            [
             0.4,
             "#fde0ef"
            ],
            [
             0.5,
             "#f7f7f7"
            ],
            [
             0.6,
             "#e6f5d0"
            ],
            [
             0.7,
             "#b8e186"
            ],
            [
             0.8,
             "#7fbc41"
            ],
            [
             0.9,
             "#4d9221"
            ],
            [
             1,
             "#276419"
            ]
           ],
           "sequential": [
            [
             0,
             "#0d0887"
            ],
            [
             0.1111111111111111,
             "#46039f"
            ],
            [
             0.2222222222222222,
             "#7201a8"
            ],
            [
             0.3333333333333333,
             "#9c179e"
            ],
            [
             0.4444444444444444,
             "#bd3786"
            ],
            [
             0.5555555555555556,
             "#d8576b"
            ],
            [
             0.6666666666666666,
             "#ed7953"
            ],
            [
             0.7777777777777778,
             "#fb9f3a"
            ],
            [
             0.8888888888888888,
             "#fdca26"
            ],
            [
             1,
             "#f0f921"
            ]
           ],
           "sequentialminus": [
            [
             0,
             "#0d0887"
            ],
            [
             0.1111111111111111,
             "#46039f"
            ],
            [
             0.2222222222222222,
             "#7201a8"
            ],
            [
             0.3333333333333333,
             "#9c179e"
            ],
            [
             0.4444444444444444,
             "#bd3786"
            ],
            [
             0.5555555555555556,
             "#d8576b"
            ],
            [
             0.6666666666666666,
             "#ed7953"
            ],
            [
             0.7777777777777778,
             "#fb9f3a"
            ],
            [
             0.8888888888888888,
             "#fdca26"
            ],
            [
             1,
             "#f0f921"
            ]
           ]
          },
          "colorway": [
           "#636efa",
           "#EF553B",
           "#00cc96",
           "#ab63fa",
           "#FFA15A",
           "#19d3f3",
           "#FF6692",
           "#B6E880",
           "#FF97FF",
           "#FECB52"
          ],
          "font": {
           "color": "#2a3f5f"
          },
          "geo": {
           "bgcolor": "white",
           "lakecolor": "white",
           "landcolor": "#E5ECF6",
           "showlakes": true,
           "showland": true,
           "subunitcolor": "white"
          },
          "hoverlabel": {
           "align": "left"
          },
          "hovermode": "closest",
          "mapbox": {
           "style": "light"
          },
          "paper_bgcolor": "white",
          "plot_bgcolor": "#E5ECF6",
          "polar": {
           "angularaxis": {
            "gridcolor": "white",
            "linecolor": "white",
            "ticks": ""
           },
           "bgcolor": "#E5ECF6",
           "radialaxis": {
            "gridcolor": "white",
            "linecolor": "white",
            "ticks": ""
           }
          },
          "scene": {
           "xaxis": {
            "backgroundcolor": "#E5ECF6",
            "gridcolor": "white",
            "gridwidth": 2,
            "linecolor": "white",
            "showbackground": true,
            "ticks": "",
            "zerolinecolor": "white"
           },
           "yaxis": {
            "backgroundcolor": "#E5ECF6",
            "gridcolor": "white",
            "gridwidth": 2,
            "linecolor": "white",
            "showbackground": true,
            "ticks": "",
            "zerolinecolor": "white"
           },
           "zaxis": {
            "backgroundcolor": "#E5ECF6",
            "gridcolor": "white",
            "gridwidth": 2,
            "linecolor": "white",
            "showbackground": true,
            "ticks": "",
            "zerolinecolor": "white"
           }
          },
          "shapedefaults": {
           "line": {
            "color": "#2a3f5f"
           }
          },
          "ternary": {
           "aaxis": {
            "gridcolor": "white",
            "linecolor": "white",
            "ticks": ""
           },
           "baxis": {
            "gridcolor": "white",
            "linecolor": "white",
            "ticks": ""
           },
           "bgcolor": "#E5ECF6",
           "caxis": {
            "gridcolor": "white",
            "linecolor": "white",
            "ticks": ""
           }
          },
          "title": {
           "x": 0.05
          },
          "xaxis": {
           "automargin": true,
           "gridcolor": "white",
           "linecolor": "white",
           "ticks": "",
           "title": {
            "standoff": 15
           },
           "zerolinecolor": "white",
           "zerolinewidth": 2
          },
          "yaxis": {
           "automargin": true,
           "gridcolor": "white",
           "linecolor": "white",
           "ticks": "",
           "title": {
            "standoff": 15
           },
           "zerolinecolor": "white",
           "zerolinewidth": 2
          }
         }
        },
        "title": {
         "text": "Daily QA: Ingenia_Ambition_X (25_Grafton_Way)"
        },
        "xaxis": {
         "anchor": "y",
         "autorange": true,
         "domain": [
          0,
          1
         ],
         "range": [
          "2020-07-15 14:49:18.735",
          "2020-07-15 16:31:11.575"
         ],
         "title": {
          "text": "Acquisition Date"
         },
         "type": "date"
        },
        "yaxis": {
         "anchor": "x",
         "autorange": true,
         "domain": [
          0,
          1
         ],
         "range": [
          0,
          1624.4579023155627
         ],
         "title": {
          "text": "NSNR"
         },
         "type": "linear"
        }
       }
      },
      "image/png": "[encoded data removed]",
      "text/html": [
       "<div>\n",
       "        \n",
       "        \n",
       "            <div id=\"d57bf220-c484-4dc9-b485-2a42af556e23\" class=\"plotly-graph-div\" style=\"height:525px; width:100%;\"></div>\n",
       "            <script type=\"text/javascript\">\n",
       "                require([\"plotly\"], function(Plotly) {\n",
       "                    window.PLOTLYENV=window.PLOTLYENV || {};\n",
       "                    \n",
       "                if (document.getElementById(\"d57bf220-c484-4dc9-b485-2a42af556e23\")) {\n",
       "                    Plotly.newPlot(\n",
       "                        'd57bf220-c484-4dc9-b485-2a42af556e23',\n",
       "                        [{\"alignmentgroup\": \"True\", \"error_y\": {\"array\": [188.29506660032615]}, \"hovertemplate\": \"Name=Anterior11_Ant_Post<br>Acquisition Date=%{x}<br>NSNR=%{y}<extra></extra>\", \"legendgroup\": \"Anterior11_Ant_Post\", \"marker\": {\"color\": \"#636efa\"}, \"name\": \"Anterior11_Ant_Post\", \"offsetgroup\": \"Anterior11_Ant_Post\", \"orientation\": \"v\", \"showlegend\": true, \"textposition\": \"auto\", \"type\": \"bar\", \"x\": [\"2020-07-15T16:29:04.870000\"], \"xaxis\": \"x\", \"y\": [671.2655514005276], \"yaxis\": \"y\"}, {\"alignmentgroup\": \"True\", \"error_y\": {\"array\": [222.73816454663938]}, \"hovertemplate\": \"Name=Anterior12_Ant_Post<br>Acquisition Date=%{x}<br>NSNR=%{y}<extra></extra>\", \"legendgroup\": \"Anterior12_Ant_Post\", \"marker\": {\"color\": \"#EF553B\"}, \"name\": \"Anterior12_Ant_Post\", \"offsetgroup\": \"Anterior12_Ant_Post\", \"orientation\": \"v\", \"showlegend\": true, \"textposition\": \"auto\", \"type\": \"bar\", \"x\": [\"2020-07-15T16:19:28.780000\"], \"xaxis\": \"x\", \"y\": [783.3533393620992], \"yaxis\": \"y\"}, {\"alignmentgroup\": \"True\", \"error_y\": {\"array\": [74.67120972576859]}, \"hovertemplate\": \"Name=Flex_L_Flex_coil<br>Acquisition Date=%{x}<br>NSNR=%{y}<extra></extra>\", \"legendgroup\": \"Flex_L_Flex_coil\", \"marker\": {\"color\": \"#00cc96\"}, \"name\": \"Flex_L_Flex_coil\", \"offsetgroup\": \"Flex_L_Flex_coil\", \"orientation\": \"v\", \"showlegend\": true, \"textposition\": \"auto\", \"type\": \"bar\", \"x\": [\"2020-07-15T14:51:25.440000\"], \"xaxis\": \"x\", \"y\": [1177.151583302405], \"yaxis\": \"y\"}, {\"alignmentgroup\": \"True\", \"error_y\": {\"array\": [78.13506748294319]}, \"hovertemplate\": \"Name=Flex_M_Flex_coil<br>Acquisition Date=%{x}<br>NSNR=%{y}<extra></extra>\", \"legendgroup\": \"Flex_M_Flex_coil\", \"marker\": {\"color\": \"#ab63fa\"}, \"name\": \"Flex_M_Flex_coil\", \"offsetgroup\": \"Flex_M_Flex_coil\", \"orientation\": \"v\", \"showlegend\": true, \"textposition\": \"auto\", \"type\": \"bar\", \"x\": [\"2020-07-15T15:06:46.870000\"], \"xaxis\": \"x\", \"y\": [987.9018604344554], \"yaxis\": \"y\"}, {\"alignmentgroup\": \"True\", \"error_y\": {\"array\": [45.85991730560243]}, \"hovertemplate\": \"Name=Flex_S_Flex_coil<br>Acquisition Date=%{x}<br>NSNR=%{y}<extra></extra>\", \"legendgroup\": \"Flex_S_Flex_coil\", \"marker\": {\"color\": \"#FFA15A\"}, \"name\": \"Flex_S_Flex_coil\", \"offsetgroup\": \"Flex_S_Flex_coil\", \"orientation\": \"v\", \"showlegend\": true, \"textposition\": \"auto\", \"type\": \"bar\", \"x\": [\"2020-07-15T15:23:34.830000\"], \"xaxis\": \"x\", \"y\": [543.6690145427366], \"yaxis\": \"y\"}, {\"alignmentgroup\": \"True\", \"error_y\": {\"array\": [102.53384866962458]}, \"hovertemplate\": \"Name=Head_Neck_Coil_HN_Head<br>Acquisition Date=%{x}<br>NSNR=%{y}<extra></extra>\", \"legendgroup\": \"Head_Neck_Coil_HN_Head\", \"marker\": {\"color\": \"#19d3f3\"}, \"name\": \"Head_Neck_Coil_HN_Head\", \"offsetgroup\": \"Head_Neck_Coil_HN_Head\", \"orientation\": \"v\", \"showlegend\": true, \"textposition\": \"auto\", \"type\": \"bar\", \"x\": [\"2020-07-15T15:50:59.370000\"], \"xaxis\": \"x\", \"y\": [1440.70115853016], \"yaxis\": \"y\"}, {\"alignmentgroup\": \"True\", \"error_y\": {\"array\": [101.18208910729793]}, \"hovertemplate\": \"Name=Head_Neck_Coil_HN_Neck<br>Acquisition Date=%{x}<br>NSNR=%{y}<extra></extra>\", \"legendgroup\": \"Head_Neck_Coil_HN_Neck\", \"marker\": {\"color\": \"#FF6692\"}, \"name\": \"Head_Neck_Coil_HN_Neck\", \"offsetgroup\": \"Head_Neck_Coil_HN_Neck\", \"orientation\": \"v\", \"showlegend\": true, \"textposition\": \"auto\", \"type\": \"bar\", \"x\": [\"2020-07-15T15:55:12.780000\"], \"xaxis\": \"x\", \"y\": [1002.3531599048553], \"yaxis\": \"y\"}, {\"alignmentgroup\": \"True\", \"error_y\": {\"array\": [124.40563200373342]}, \"hovertemplate\": \"Name=Head_coil_HN_Head<br>Acquisition Date=%{x}<br>NSNR=%{y}<extra></extra>\", \"legendgroup\": \"Head_coil_HN_Head\", \"marker\": {\"color\": \"#B6E880\"}, \"name\": \"Head_coil_HN_Head\", \"offsetgroup\": \"Head_coil_HN_Head\", \"orientation\": \"v\", \"showlegend\": true, \"textposition\": \"auto\", \"type\": \"bar\", \"x\": [\"2020-07-15T15:40:06.570000\"], \"xaxis\": \"x\", \"y\": [1406.2512966866275], \"yaxis\": \"y\"}],\n",
       "                        {\"barmode\": \"relative\", \"legend\": {\"title\": {\"text\": \"Name\"}, \"tracegroupgap\": 0}, \"template\": {\"data\": {\"bar\": [{\"error_x\": {\"color\": \"#2a3f5f\"}, \"error_y\": {\"color\": \"#2a3f5f\"}, \"marker\": {\"line\": {\"color\": \"#E5ECF6\", \"width\": 0.5}}, \"type\": \"bar\"}], \"barpolar\": [{\"marker\": {\"line\": {\"color\": \"#E5ECF6\", \"width\": 0.5}}, \"type\": \"barpolar\"}], \"carpet\": [{\"aaxis\": {\"endlinecolor\": \"#2a3f5f\", \"gridcolor\": \"white\", \"linecolor\": \"white\", \"minorgridcolor\": \"white\", \"startlinecolor\": \"#2a3f5f\"}, \"baxis\": {\"endlinecolor\": \"#2a3f5f\", \"gridcolor\": \"white\", \"linecolor\": \"white\", \"minorgridcolor\": \"white\", \"startlinecolor\": \"#2a3f5f\"}, \"type\": \"carpet\"}], \"choropleth\": [{\"colorbar\": {\"outlinewidth\": 0, \"ticks\": \"\"}, \"type\": \"choropleth\"}], \"contour\": [{\"colorbar\": {\"outlinewidth\": 0, \"ticks\": \"\"}, \"colorscale\": [[0.0, \"#0d0887\"], [0.1111111111111111, \"#46039f\"], [0.2222222222222222, \"#7201a8\"], [0.3333333333333333, \"#9c179e\"], [0.4444444444444444, \"#bd3786\"], [0.5555555555555556, \"#d8576b\"], [0.6666666666666666, \"#ed7953\"], [0.7777777777777778, \"#fb9f3a\"], [0.8888888888888888, \"#fdca26\"], [1.0, \"#f0f921\"]], \"type\": \"contour\"}], \"contourcarpet\": [{\"colorbar\": {\"outlinewidth\": 0, \"ticks\": \"\"}, \"type\": \"contourcarpet\"}], \"heatmap\": [{\"colorbar\": {\"outlinewidth\": 0, \"ticks\": \"\"}, \"colorscale\": [[0.0, \"#0d0887\"], [0.1111111111111111, \"#46039f\"], [0.2222222222222222, \"#7201a8\"], [0.3333333333333333, \"#9c179e\"], [0.4444444444444444, \"#bd3786\"], [0.5555555555555556, \"#d8576b\"], [0.6666666666666666, \"#ed7953\"], [0.7777777777777778, \"#fb9f3a\"], [0.8888888888888888, \"#fdca26\"], [1.0, \"#f0f921\"]], \"type\": \"heatmap\"}], \"heatmapgl\": [{\"colorbar\": {\"outlinewidth\": 0, \"ticks\": \"\"}, \"colorscale\": [[0.0, \"#0d0887\"], [0.1111111111111111, \"#46039f\"], [0.2222222222222222, \"#7201a8\"], [0.3333333333333333, \"#9c179e\"], [0.4444444444444444, \"#bd3786\"], [0.5555555555555556, \"#d8576b\"], [0.6666666666666666, \"#ed7953\"], [0.7777777777777778, \"#fb9f3a\"], [0.8888888888888888, \"#fdca26\"], [1.0, \"#f0f921\"]], \"type\": \"heatmapgl\"}], \"histogram\": [{\"marker\": {\"colorbar\": {\"outlinewidth\": 0, \"ticks\": \"\"}}, \"type\": \"histogram\"}], \"histogram2d\": [{\"colorbar\": {\"outlinewidth\": 0, \"ticks\": \"\"}, \"colorscale\": [[0.0, \"#0d0887\"], [0.1111111111111111, \"#46039f\"], [0.2222222222222222, \"#7201a8\"], [0.3333333333333333, \"#9c179e\"], [0.4444444444444444, \"#bd3786\"], [0.5555555555555556, \"#d8576b\"], [0.6666666666666666, \"#ed7953\"], [0.7777777777777778, \"#fb9f3a\"], [0.8888888888888888, \"#fdca26\"], [1.0, \"#f0f921\"]], \"type\": \"histogram2d\"}], \"histogram2dcontour\": [{\"colorbar\": {\"outlinewidth\": 0, \"ticks\": \"\"}, \"colorscale\": [[0.0, \"#0d0887\"], [0.1111111111111111, \"#46039f\"], [0.2222222222222222, \"#7201a8\"], [0.3333333333333333, \"#9c179e\"], [0.4444444444444444, \"#bd3786\"], [0.5555555555555556, \"#d8576b\"], [0.6666666666666666, \"#ed7953\"], [0.7777777777777778, \"#fb9f3a\"], [0.8888888888888888, \"#fdca26\"], [1.0, \"#f0f921\"]], \"type\": \"histogram2dcontour\"}], \"mesh3d\": [{\"colorbar\": {\"outlinewidth\": 0, \"ticks\": \"\"}, \"type\": \"mesh3d\"}], \"parcoords\": [{\"line\": {\"colorbar\": {\"outlinewidth\": 0, \"ticks\": \"\"}}, \"type\": \"parcoords\"}], \"pie\": [{\"automargin\": true, \"type\": \"pie\"}], \"scatter\": [{\"marker\": {\"colorbar\": {\"outlinewidth\": 0, \"ticks\": \"\"}}, \"type\": \"scatter\"}], \"scatter3d\": [{\"line\": {\"colorbar\": {\"outlinewidth\": 0, \"ticks\": \"\"}}, \"marker\": {\"colorbar\": {\"outlinewidth\": 0, \"ticks\": \"\"}}, \"type\": \"scatter3d\"}], \"scattercarpet\": [{\"marker\": {\"colorbar\": {\"outlinewidth\": 0, \"ticks\": \"\"}}, \"type\": \"scattercarpet\"}], \"scattergeo\": [{\"marker\": {\"colorbar\": {\"outlinewidth\": 0, \"ticks\": \"\"}}, \"type\": \"scattergeo\"}], \"scattergl\": [{\"marker\": {\"colorbar\": {\"outlinewidth\": 0, \"ticks\": \"\"}}, \"type\": \"scattergl\"}], \"scattermapbox\": [{\"marker\": {\"colorbar\": {\"outlinewidth\": 0, \"ticks\": \"\"}}, \"type\": \"scattermapbox\"}], \"scatterpolar\": [{\"marker\": {\"colorbar\": {\"outlinewidth\": 0, \"ticks\": \"\"}}, \"type\": \"scatterpolar\"}], \"scatterpolargl\": [{\"marker\": {\"colorbar\": {\"outlinewidth\": 0, \"ticks\": \"\"}}, \"type\": \"scatterpolargl\"}], \"scatterternary\": [{\"marker\": {\"colorbar\": {\"outlinewidth\": 0, \"ticks\": \"\"}}, \"type\": \"scatterternary\"}], \"surface\": [{\"colorbar\": {\"outlinewidth\": 0, \"ticks\": \"\"}, \"colorscale\": [[0.0, \"#0d0887\"], [0.1111111111111111, \"#46039f\"], [0.2222222222222222, \"#7201a8\"], [0.3333333333333333, \"#9c179e\"], [0.4444444444444444, \"#bd3786\"], [0.5555555555555556, \"#d8576b\"], [0.6666666666666666, \"#ed7953\"], [0.7777777777777778, \"#fb9f3a\"], [0.8888888888888888, \"#fdca26\"], [1.0, \"#f0f921\"]], \"type\": \"surface\"}], \"table\": [{\"cells\": {\"fill\": {\"color\": \"#EBF0F8\"}, \"line\": {\"color\": \"white\"}}, \"header\": {\"fill\": {\"color\": \"#C8D4E3\"}, \"line\": {\"color\": \"white\"}}, \"type\": \"table\"}]}, \"layout\": {\"annotationdefaults\": {\"arrowcolor\": \"#2a3f5f\", \"arrowhead\": 0, \"arrowwidth\": 1}, \"coloraxis\": {\"colorbar\": {\"outlinewidth\": 0, \"ticks\": \"\"}}, \"colorscale\": {\"diverging\": [[0, \"#8e0152\"], [0.1, \"#c51b7d\"], [0.2, \"#de77ae\"], [0.3, \"#f1b6da\"], [0.4, \"#fde0ef\"], [0.5, \"#f7f7f7\"], [0.6, \"#e6f5d0\"], [0.7, \"#b8e186\"], [0.8, \"#7fbc41\"], [0.9, \"#4d9221\"], [1, \"#276419\"]], \"sequential\": [[0.0, \"#0d0887\"], [0.1111111111111111, \"#46039f\"], [0.2222222222222222, \"#7201a8\"], [0.3333333333333333, \"#9c179e\"], [0.4444444444444444, \"#bd3786\"], [0.5555555555555556, \"#d8576b\"], [0.6666666666666666, \"#ed7953\"], [0.7777777777777778, \"#fb9f3a\"], [0.8888888888888888, \"#fdca26\"], [1.0, \"#f0f921\"]], \"sequentialminus\": [[0.0, \"#0d0887\"], [0.1111111111111111, \"#46039f\"], [0.2222222222222222, \"#7201a8\"], [0.3333333333333333, \"#9c179e\"], [0.4444444444444444, \"#bd3786\"], [0.5555555555555556, \"#d8576b\"], [0.6666666666666666, \"#ed7953\"], [0.7777777777777778, \"#fb9f3a\"], [0.8888888888888888, \"#fdca26\"], [1.0, \"#f0f921\"]]}, \"colorway\": [\"#636efa\", \"#EF553B\", \"#00cc96\", \"#ab63fa\", \"#FFA15A\", \"#19d3f3\", \"#FF6692\", \"#B6E880\", \"#FF97FF\", \"#FECB52\"], \"font\": {\"color\": \"#2a3f5f\"}, \"geo\": {\"bgcolor\": \"white\", \"lakecolor\": \"white\", \"landcolor\": \"#E5ECF6\", \"showlakes\": true, \"showland\": true, \"subunitcolor\": \"white\"}, \"hoverlabel\": {\"align\": \"left\"}, \"hovermode\": \"closest\", \"mapbox\": {\"style\": \"light\"}, \"paper_bgcolor\": \"white\", \"plot_bgcolor\": \"#E5ECF6\", \"polar\": {\"angularaxis\": {\"gridcolor\": \"white\", \"linecolor\": \"white\", \"ticks\": \"\"}, \"bgcolor\": \"#E5ECF6\", \"radialaxis\": {\"gridcolor\": \"white\", \"linecolor\": \"white\", \"ticks\": \"\"}}, \"scene\": {\"xaxis\": {\"backgroundcolor\": \"#E5ECF6\", \"gridcolor\": \"white\", \"gridwidth\": 2, \"linecolor\": \"white\", \"showbackground\": true, \"ticks\": \"\", \"zerolinecolor\": \"white\"}, \"yaxis\": {\"backgroundcolor\": \"#E5ECF6\", \"gridcolor\": \"white\", \"gridwidth\": 2, \"linecolor\": \"white\", \"showbackground\": true, \"ticks\": \"\", \"zerolinecolor\": \"white\"}, \"zaxis\": {\"backgroundcolor\": \"#E5ECF6\", \"gridcolor\": \"white\", \"gridwidth\": 2, \"linecolor\": \"white\", \"showbackground\": true, \"ticks\": \"\", \"zerolinecolor\": \"white\"}}, \"shapedefaults\": {\"line\": {\"color\": \"#2a3f5f\"}}, \"ternary\": {\"aaxis\": {\"gridcolor\": \"white\", \"linecolor\": \"white\", \"ticks\": \"\"}, \"baxis\": {\"gridcolor\": \"white\", \"linecolor\": \"white\", \"ticks\": \"\"}, \"bgcolor\": \"#E5ECF6\", \"caxis\": {\"gridcolor\": \"white\", \"linecolor\": \"white\", \"ticks\": \"\"}}, \"title\": {\"x\": 0.05}, \"xaxis\": {\"automargin\": true, \"gridcolor\": \"white\", \"linecolor\": \"white\", \"ticks\": \"\", \"title\": {\"standoff\": 15}, \"zerolinecolor\": \"white\", \"zerolinewidth\": 2}, \"yaxis\": {\"automargin\": true, \"gridcolor\": \"white\", \"linecolor\": \"white\", \"ticks\": \"\", \"title\": {\"standoff\": 15}, \"zerolinecolor\": \"white\", \"zerolinewidth\": 2}}}, \"title\": {\"text\": \"Daily QA: Ingenia_Ambition_X (25_Grafton_Way)\"}, \"xaxis\": {\"anchor\": \"y\", \"domain\": [0.0, 1.0], \"title\": {\"text\": \"Acquisition Date\"}}, \"yaxis\": {\"anchor\": \"x\", \"domain\": [0.0, 1.0], \"title\": {\"text\": \"NSNR\"}}},\n",
       "                        {\"responsive\": true}\n",
       "                    ).then(function(){\n",
       "                            \n",
       "var gd = document.getElementById('d57bf220-c484-4dc9-b485-2a42af556e23');\n",
       "var x = new MutationObserver(function (mutations, observer) {{\n",
       "        var display = window.getComputedStyle(gd).display;\n",
       "        if (!display || display === 'none') {{\n",
       "            console.log([gd, 'removed!']);\n",
       "            Plotly.purge(gd);\n",
       "            observer.disconnect();\n",
       "        }}\n",
       "}});\n",
       "\n",
       "// Listen for the removal of the full notebook cells\n",
       "var notebookContainer = gd.closest('#notebook-container');\n",
       "if (notebookContainer) {{\n",
       "    x.observe(notebookContainer, {childList: true});\n",
       "}}\n",
       "\n",
       "// Listen for the clearing of the current output cell\n",
       "var outputEl = gd.closest('.output');\n",
       "if (outputEl) {{\n",
       "    x.observe(outputEl, {childList: true});\n",
       "}}\n",
       "\n",
       "                        })\n",
       "                };\n",
       "                });\n",
       "            </script>\n",
       "        </div>"
      ]
     },
     "metadata": {},
     "output_type": "display_data"
    }
   ],
   "source": [
    "# all_df.to_csv('results_CSV\n",
    "all_df.head()\n",
    "fig1=px.scatter(all_df, x='Acquisition Date', y='NSNR',error_y='NSNR_std',title=f'Daily QA: {all_df.ManufacturersModelName[0]} ({all_df.InstitutionAddress[0]})',color='Name')\n",
    "fig2=px.bar(all_df, x='Acquisition Date', y='NSNR',error_y='NSNR_std',title=f'Daily QA: {all_df.ManufacturersModelName[0]} ({all_df.InstitutionAddress[0]})',color='Name')\n",
    "fig1.show()\n",
    "fig2.show()\n"
   ]
  },
  {
   "cell_type": "code",
   "execution_count": 68,
   "metadata": {},
   "outputs": [
    {
     "name": "stdout",
     "output_type": "stream",
     "text": [
      "_02Aug2020\n"
     ]
    }
   ],
   "source": [
    "now=datetime.now()\n",
    "print(now.strftime(\"_%d%b%Y\"))"
   ]
  },
  {
   "cell_type": "code",
   "execution_count": 210,
   "metadata": {},
   "outputs": [
    {
     "name": "stdout",
     "output_type": "stream",
     "text": [
      "(25, 25, 5, 5)\n",
      "[[    0     1     2 ...   125   126   127]\n",
      " [  128   129   130 ...   253   254   255]\n",
      " [  256   257   258 ...   381   382   383]\n",
      " ...\n",
      " [16000 16001 16002 ... 16125 16126 16127]\n",
      " [16128 16129 16130 ... 16253 16254 16255]\n",
      " [16256 16257 16258 ... 16381 16382 16383]]\n",
      " \n",
      "[[  0   1   2   3   4]\n",
      " [128 129 130 131 132]\n",
      " [256 257 258 259 260]\n",
      " [384 385 386 387 388]\n",
      " [512 513 514 515 516]]\n"
     ]
    },
    {
     "data": {
      "text/plain": [
       "(1024, 8)"
      ]
     },
     "execution_count": 210,
     "metadata": {},
     "output_type": "execute_result"
    }
   ],
   "source": [
    "from numpy.lib.stride_tricks import as_strided as ast\n",
    "\n",
    "\n",
    "def block_view(A, block= (5,5)):\n",
    "    \"\"\"Provide a 2D block view to 2D array. No error checking made.\n",
    "    Therefore meaningful (as implemented) only for blocks strictly\n",
    "    compatible with the shape of A.\"\"\"\n",
    "    # simple shape and strides computations may seem at first strange\n",
    "    # unless one is able to recognize the 'tuple additions' involved ;-)\n",
    "    shape= (int(A.shape[0]/ block[0]), int(A.shape[1]/ block[1]))+ block\n",
    "    print(shape)\n",
    "    strides= (block[0]* A.strides[0], block[1]* A.strides[1])+ A.strides\n",
    "    return ast(A, shape= shape, strides= strides)\n",
    "\n",
    "A=np.arange(128*128).reshape(128,128)\n",
    "B=block_view(A)\n",
    "print(A)\n",
    "print(' ')\n",
    "print(B[0,0])\n",
    "A.strides"
   ]
  },
  {
   "cell_type": "code",
   "execution_count": 34,
   "metadata": {},
   "outputs": [],
   "source": [
    "block=(10,10,2)\n",
    "\n",
    "A_split0=np.array_split(A,np.round(A.shape[0]/block[0]))\n",
    "A_split01=[np.array_split(a,np.round(A.shape[1]/block[1]),axis=1) for a in A_split0]\n",
    "# A_split012=[np.array_split(a,np.round(A.shape[2]/block[2]),axis=2) for a in A_split01]"
   ]
  }
 ],
 "metadata": {
  "file_extension": ".py",
  "kernelspec": {
   "display_name": "Python 3",
   "language": "python",
   "name": "python3"
  },
  "language_info": {
   "codemirror_mode": {
    "name": "ipython",
    "version": 3
   },
   "file_extension": ".py",
   "mimetype": "text/x-python",
   "name": "python",
   "nbconvert_exporter": "python",
   "pygments_lexer": "ipython3",
   "version": "3.8.2"
  },
  "mimetype": "text/x-python",
  "name": "python",
  "npconvert_exporter": "python",
  "pygments_lexer": "ipython3",
  "version": 3
 },
 "nbformat": 4,
 "nbformat_minor": 4
}
